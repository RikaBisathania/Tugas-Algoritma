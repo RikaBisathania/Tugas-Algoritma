{
 "cells": [
  {
   "cell_type": "code",
   "execution_count": 1,
   "id": "950214e8",
   "metadata": {},
   "outputs": [
    {
     "name": "stdout",
     "output_type": "stream",
     "text": [
      "saya iseng lagi\n"
     ]
    }
   ],
   "source": [
    "#fungsi print digunakan untuk menampilkan output program berupa teks, angka, ataupun karakter lain \n",
    "print(\"saya iseng lagi\")\n",
    "#syntax print() digunakan untuk menampilkan string berupa output pada console\n",
    "#di dalam syntax dituliskan string atau variabel"
   ]
  },
  {
   "cell_type": "code",
   "execution_count": 17,
   "id": "5ebe6912",
   "metadata": {},
   "outputs": [
    {
     "name": "stdout",
     "output_type": "stream",
     "text": [
      "saya sudah makan\n",
      "makan nasi \n"
     ]
    }
   ],
   "source": [
    "x = \"saya sudah makan\"\\n\n",
    "#syntax ;\\ digunakan untuk membuat line baru pada console\n",
    "print(x)"
   ]
  },
  {
   "cell_type": "code",
   "execution_count": 11,
   "id": "4f4d6c78",
   "metadata": {},
   "outputs": [
    {
     "name": "stdout",
     "output_type": "stream",
     "text": [
      "5\n"
     ]
    }
   ],
   "source": [
    "pesan = \"saya sudah makan\"\n",
    "print(pesan.count(\"a\"))\n",
    "#kode ini adalah untuk menghitung jumlah huruf \"a\" dalam sebuah kalimat"
   ]
  },
  {
   "cell_type": "code",
   "execution_count": 13,
   "id": "9b84a080",
   "metadata": {},
   "outputs": [
    {
     "name": "stdout",
     "output_type": "stream",
     "text": [
      "SAYA SEDANG BELAJAR ALGORITMA\n",
      "saya sedang belajar algoritma\n",
      "29\n",
      "aya edang belajar algoritma\n"
     ]
    }
   ],
   "source": [
    "pesan = \"saya sedang belajar algoritma\"\n",
    "print(pesan.upper())\n",
    "#kode ini untuk membuat string baru dengan semua huruf diubah menjadi huruf besar\n",
    "print(pesan.lower())\n",
    "#kode ini untuk membuat string baru dengan semua huruf diubah menjadi huruf kecil\n",
    "print(len(pesan))\n",
    "#kode ini untuk menghitung jumlah huruf pada \"saya sedang belajar algoritma\"\n",
    "pesan.find('algoritma')\n",
    "#mengembalikan indeks dari hasil pertama pencarian\n",
    "pesan.find('kamu')\n",
    "#akan menampilkan -1 jika karakter yang dicari tidak ditemukan \n",
    "pesan.replace('saya', 'Rika')\n",
    "#kita bisa mencari lalu menimpa sebuah karakter/teks dengan teks baru \n",
    "print(pesan.replace('s',''))\n",
    "#kita tidak menghapus huruf s, namun menimpa huruf s dengan karakter kosong "
   ]
  },
  {
   "cell_type": "code",
   "execution_count": 12,
   "id": "c0d88fbe",
   "metadata": {},
   "outputs": [
    {
     "name": "stdout",
     "output_type": "stream",
     "text": [
      "Saya lagi buat tugas Algoritma\n",
      "\n",
      "\n",
      "\n",
      "\n",
      "\n",
      "dan Struktur Data\n"
     ]
    }
   ],
   "source": [
    "print(\"Saya lagi buat tugas Algoritma\")\n",
    "#disini masukkan kalimat atau kata yang ingin ditampilkan\n",
    "print(4*\"\\n\")\n",
    "#disini \\n berfungsi untuk mengatur jarak atau jeda antara kalimat satu dengan yang lainnya\n",
    "print(\"dan Struktur Data\")\n",
    "#disini masukkan kalimat lain/lanjutan dari kalimat pertama"
   ]
  },
  {
   "cell_type": "code",
   "execution_count": 15,
   "id": "b5db3a54",
   "metadata": {},
   "outputs": [
    {
     "name": "stdout",
     "output_type": "stream",
     "text": [
      "nama \\nsaya adalah Rika\n"
     ]
    }
   ],
   "source": [
    "x = r\"nama \\nsaya adalah Rika\"\n",
    "#r pada kode diatas adalah raw string yang menampilkan bentuk dari penampilan teks apa adanya\n",
    "print(x)"
   ]
  },
  {
   "cell_type": "code",
   "execution_count": 14,
   "id": "34039be0",
   "metadata": {},
   "outputs": [
    {
     "name": "stdout",
     "output_type": "stream",
     "text": [
      "Saya Mahasiswa Matematika "
     ]
    }
   ],
   "source": [
    "print('Saya', end=' ')\n",
    "print('Mahasiswa', end= ' ')\n",
    "print('Matematika', end= ' ')\n",
    "#dengan menggunakan parameter end, kita bisa membuat kata-kata tersebut menjadi horizontal atau kesamping"
   ]
  },
  {
   "cell_type": "code",
   "execution_count": 15,
   "id": "f3b93bb1",
   "metadata": {},
   "outputs": [
    {
     "name": "stdout",
     "output_type": "stream",
     "text": [
      "Saya\n",
      "Mahasiswa\n",
      "Matematika\n"
     ]
    }
   ],
   "source": [
    "print('Saya')\n",
    "print('Mahasiswa')\n",
    "print('Matematika')\n",
    "#Disini jika tidak menggunakan parameter end, maka tulisan akan turun ke bawah dan tidak membentuk kalimat"
   ]
  },
  {
   "cell_type": "code",
   "execution_count": 16,
   "id": "9976c965",
   "metadata": {},
   "outputs": [
    {
     "name": "stdout",
     "output_type": "stream",
     "text": [
      "Saya@Mahasiswa@Matematika^"
     ]
    }
   ],
   "source": [
    "print('Saya', 'Mahasiswa', 'Matematika', sep=\"@\", end=\"^\")\n",
    "#Selain parameter end, kita juga bisa menggunakan parameter sep untuk menggantikan spasi menjadi berbentuk symbol. Kita dapat \n",
    "#(lanjutan) parameter end dan sep secara bersamaan"
   ]
  },
  {
   "cell_type": "code",
   "execution_count": 3,
   "id": "f013b27b",
   "metadata": {},
   "outputs": [
    {
     "name": "stdout",
     "output_type": "stream",
     "text": [
      "halo, malam yaaRika\n"
     ]
    }
   ],
   "source": [
    "#Saya mendapatkan informasi dari internet, jika ingin mencetak string dan variabel dalam satu statement \n",
    "#(lanjutan) dapat menggunakan penghubung +\n",
    "nama = \"Rika\"\n",
    "print(\"halo, malam yaa\" + nama)\n",
    "#saya masih berusaha menemukan cara agar antara kata \"yaa\" dan \"Rika\" dapat diberikan spasi"
   ]
  },
  {
   "cell_type": "code",
   "execution_count": 5,
   "id": "b54c8c48",
   "metadata": {},
   "outputs": [
    {
     "name": "stdout",
     "output_type": "stream",
     "text": [
      "halo, malam yaa Rika\n"
     ]
    }
   ],
   "source": [
    "nama = \"Rika\"\n",
    "print(\"halo, malam yaa\" + \" \" +nama)\n",
    "#disini saya sudah menemukan cara agar antara kata \"yaa\" dan \"Rika\"\n",
    "#(lanjutan) dapat diberikan spasi, yaitu dengan cara menambahkan \" \".\n",
    "#saya juga baru mengetahui bahwa \"\" harus diberikan spasi seperti ini \"(spasi)\" agar dapat memuat perintah spasi"
   ]
  },
  {
   "cell_type": "code",
   "execution_count": 6,
   "id": "2570bb9a",
   "metadata": {},
   "outputs": [
    {
     "name": "stdout",
     "output_type": "stream",
     "text": [
      "42\n",
      "10000\n"
     ]
    }
   ],
   "source": [
    "mahasiswa_12 = 42\n",
    "#sama seperti contoh di atas, kita masukkan terlebih dahulu nama datanya\n",
    "uang_di_dompet_12 = 10000\n",
    "#masukkan nama data lagi \n",
    "print(mahasiswa_12)\n",
    "print(uang_di_dompet_12)\n",
    "#kemudian tambahkan print untuk menampilkan data yang sudah kita input"
   ]
  },
  {
   "cell_type": "code",
   "execution_count": 13,
   "id": "7fed25cd",
   "metadata": {},
   "outputs": [
    {
     "name": "stdout",
     "output_type": "stream",
     "text": [
      "Input nama anda:Rika Bisathania\n",
      "Selamat Pagi Rika Bisathania\n"
     ]
    }
   ],
   "source": [
    "nama = input(\"Input nama anda:\")\n",
    "print(\"Selamat Pagi\" + \" \" + nama)"
   ]
  },
  {
   "cell_type": "code",
   "execution_count": 12,
   "id": "c6bea99d",
   "metadata": {},
   "outputs": [
    {
     "name": "stdout",
     "output_type": "stream",
     "text": [
      "Rika Bisathania\n"
     ]
    }
   ],
   "source": [
    "nama_depan = 'Rika'\n",
    "#kita akan mencoba dengan cara yang sama, namun kali ini kita akan menggunakan nama saya sebagai contoh\n",
    "nama_tengah = ' '\n",
    "#karena saya tidak mempunyai nama tengah, disini saya akan mengosongkan bagian ini\n",
    "nama_belakang = 'Bisathania'\n",
    "#masukkan nama belakang\n",
    "print(nama_depan + nama_tengah + nama_belakang)\n",
    "#seperti informasi yang saya peroleh dari contoh sebelumnya, kita menggunakan + untuk mencetak string dan variabel \n",
    "#(lanjutan) dalam satu statement"
   ]
  },
  {
   "cell_type": "code",
   "execution_count": 1,
   "id": "4aa75f47",
   "metadata": {},
   "outputs": [
    {
     "name": "stdout",
     "output_type": "stream",
     "text": [
      "Masukkan nama andahhhh:rika\n",
      "Lagi apa honey ?mandi\n"
     ]
    }
   ],
   "source": [
    "nama = input(\"Masukkan nama andahhhh:\")\n",
    "kegiatan = input(\"Lagi apa honey ?\")\n",
    "print = (\"semangat\" + \"kegiatan\" + \"nama\")\n",
    "#disini tidak bisa menampilkan print, saya belum menemukan jawaban kenapa tidak bisa menampilkan print"
   ]
  },
  {
   "cell_type": "code",
   "execution_count": 6,
   "id": "1c456a18",
   "metadata": {},
   "outputs": [
    {
     "name": "stdout",
     "output_type": "stream",
     "text": [
      "Siapa nama anda ?rika\n",
      "Berapakah umur anda ?bisathania\n"
     ]
    },
    {
     "ename": "TypeError",
     "evalue": "'str' object is not callable",
     "output_type": "error",
     "traceback": [
      "\u001b[1;31m---------------------------------------------------------------------------\u001b[0m",
      "\u001b[1;31mTypeError\u001b[0m                                 Traceback (most recent call last)",
      "\u001b[1;32m~\\AppData\\Local\\Temp\\ipykernel_12400\\1627684637.py\u001b[0m in \u001b[0;36m<module>\u001b[1;34m\u001b[0m\n\u001b[0;32m      4\u001b[0m \u001b[0mumur\u001b[0m \u001b[1;33m=\u001b[0m \u001b[0minput\u001b[0m\u001b[1;33m(\u001b[0m\u001b[1;34m\"Berapakah umur anda ?\"\u001b[0m\u001b[1;33m)\u001b[0m\u001b[1;33m\u001b[0m\u001b[1;33m\u001b[0m\u001b[0m\n\u001b[0;32m      5\u001b[0m \u001b[1;31m#Saya mencoba untuk membuat kode untuk menampilkan output\u001b[0m\u001b[1;33m\u001b[0m\u001b[1;33m\u001b[0m\u001b[0m\n\u001b[1;32m----> 6\u001b[1;33m \u001b[0mprint\u001b[0m\u001b[1;33m(\u001b[0m\u001b[1;34m\"halo\"\u001b[0m\u001b[1;33m,\u001b[0m\u001b[0mnama\u001b[0m\u001b[1;33m,\u001b[0m\u001b[1;34m\"umur kamu adalah\"\u001b[0m\u001b[1;33m,\u001b[0m\u001b[0mumur\u001b[0m\u001b[1;33m,\u001b[0m\u001b[1;34m\"tahun\"\u001b[0m\u001b[1;33m)\u001b[0m\u001b[1;33m\u001b[0m\u001b[1;33m\u001b[0m\u001b[0m\n\u001b[0m\u001b[0;32m      7\u001b[0m \u001b[1;31m#Hasil dari kode yang menampilkan output tidak dapat menampilkan output padahal data sudah dapat diimput\u001b[0m\u001b[1;33m\u001b[0m\u001b[1;33m\u001b[0m\u001b[0m\n",
      "\u001b[1;31mTypeError\u001b[0m: 'str' object is not callable"
     ]
    }
   ],
   "source": [
    "#Disini saya membuat kode untuk mengambil input yaitu dengan memasukkan nama dan umur\n",
    "nama = input(\"Siapa nama anda ?\")\n",
    "#input() digunakan untuk mengambil data angka, sedangkan raw_input()untuk mengambil teks. Pda Python3 sudah digabungkan\n",
    "umur = input(\"Berapakah umur anda ?\")\n",
    "#Saya mencoba untuk membuat kode untuk menampilkan output\n",
    "print(\"halo\",nama,\"umur kamu adalah\",umur,\"tahun\")\n",
    "#Hasil dari kode yang menampilkan output tidak dapat menampilkan output padahal data sudah dapat diimput"
   ]
  },
  {
   "cell_type": "code",
   "execution_count": 1,
   "id": "92fd1598",
   "metadata": {},
   "outputs": [
    {
     "name": "stdout",
     "output_type": "stream",
     "text": [
      "Berapakah jumlah uang di dompet anda?1000\n",
      "Berapakah jumlah uang anda di bank ?2000\n",
      "Total uang anda adalah Rp3000\n"
     ]
    }
   ],
   "source": [
    "#Walaupun uang_di_dompet tidak didefinisikan dengan integer, namun di total_uang ia didefinisikan dengan integer\n",
    "#program ini masih bisa bekerja\n",
    "uang_di_dompet = input(\"Berapakah jumlah uang di dompet anda?\")\n",
    "uang_di_bank = input(\"Berapakah jumlah uang anda di bank ?\")\n",
    "total_uang = int(uang_di_dompet)+int(uang_di_bank)\n",
    "#disini kita menggunakan integer karena jumlah uang pastilah berupa bilangan bulat. Hal ini sesuai dengan fungsi integer \n",
    "#yaitu memuang bilangan buat seperti 1,2,3,1000,1500,dst\n",
    "print(\"Total uang anda adalah Rp\" + str(total_uang))"
   ]
  },
  {
   "cell_type": "code",
   "execution_count": 9,
   "id": "e69aa0bc",
   "metadata": {},
   "outputs": [
    {
     "name": "stdout",
     "output_type": "stream",
     "text": [
      "Masukan Bilangan pertama =10\n",
      "Masukkan Bilangan kedua =20\n"
     ]
    },
    {
     "ename": "TypeError",
     "evalue": "'str' object is not callable",
     "output_type": "error",
     "traceback": [
      "\u001b[1;31m---------------------------------------------------------------------------\u001b[0m",
      "\u001b[1;31mTypeError\u001b[0m                                 Traceback (most recent call last)",
      "\u001b[1;32m~\\AppData\\Local\\Temp\\ipykernel_12400\\136929069.py\u001b[0m in \u001b[0;36m<module>\u001b[1;34m\u001b[0m\n\u001b[0;32m      3\u001b[0m \u001b[0mbilangan_2\u001b[0m \u001b[1;33m=\u001b[0m \u001b[0mint\u001b[0m\u001b[1;33m(\u001b[0m\u001b[0minput\u001b[0m\u001b[1;33m(\u001b[0m\u001b[1;34m'Masukkan Bilangan kedua ='\u001b[0m\u001b[1;33m)\u001b[0m\u001b[1;33m)\u001b[0m\u001b[1;33m\u001b[0m\u001b[1;33m\u001b[0m\u001b[0m\n\u001b[0;32m      4\u001b[0m \u001b[1;33m\u001b[0m\u001b[0m\n\u001b[1;32m----> 5\u001b[1;33m \u001b[0mprint\u001b[0m\u001b[1;33m(\u001b[0m\u001b[1;34m\"\"\u001b[0m\u001b[1;33m)\u001b[0m\u001b[1;33m\u001b[0m\u001b[1;33m\u001b[0m\u001b[0m\n\u001b[0m\u001b[0;32m      6\u001b[0m \u001b[0mprint\u001b[0m\u001b[1;33m(\u001b[0m\u001b[1;34m\"Hasilnya adalah\"\u001b[0m\u001b[1;33m)\u001b[0m\u001b[1;33m\u001b[0m\u001b[1;33m\u001b[0m\u001b[0m\n\u001b[0;32m      7\u001b[0m \u001b[0mprint\u001b[0m\u001b[1;33m(\u001b[0m\u001b[1;34m\"\"\u001b[0m\u001b[1;33m)\u001b[0m\u001b[1;33m\u001b[0m\u001b[1;33m\u001b[0m\u001b[0m\n",
      "\u001b[1;31mTypeError\u001b[0m: 'str' object is not callable"
     ]
    }
   ],
   "source": [
    "#saya akan mencoba untuk membuat sebuah kode untuk menjumlahkan dan mengalikan dua buah bilangan\n",
    "#masukkan kode untuk kita agar bisa memasukkan bilangan pertama dan bilangan kedua \n",
    "bilangan_1 = int(input('Masukan Bilangan pertama ='))\n",
    "bilangan_2 = int(input('Masukkan Bilangan kedua ='))\n",
    "\n",
    "print(\"\")\n",
    "#kode ini untuk memuat jarak antarkalimat\n",
    "print(\"Hasilnya adalah\")\n",
    "print(\"\")\n",
    "#sama seperti kode sebelumnya, ini untuk memberikan jarak dengan kalimat di bawahnya\n",
    "\n",
    "#masukkan kode yang bisa melakukan perintah penjumlahan dan perkalian\n",
    "tambah = bilangan_1+bilangan_2\n",
    "kali = bilangan_1*bilangan_2\n",
    "print(\"Hasil dari penjumlahan kedua bilangan tersebut adalah\", tambah)\n",
    "print(\"Hasil dari perkalian kedua bilangan tersebut adalah\"), kali\n",
    "#namun kode ini belum berhasil (masih error)"
   ]
  },
  {
   "cell_type": "code",
   "execution_count": 7,
   "id": "646eae66",
   "metadata": {},
   "outputs": [
    {
     "name": "stdout",
     "output_type": "stream",
     "text": [
      "Uang di dompet saya adalah200\n",
      "Uang tabungan saya di bank adalah100\n",
      "Total uang saya adalah 300\n"
     ]
    }
   ],
   "source": [
    "#int digunakan untuk menyatakan bilangan bulat dan untuk menjumlahkan bilangan bulat kita dapat menunggunakan string\n",
    "dompet = int(input(\"Uang di dompet saya adalah\"))\n",
    "tabungan = int (input(\"Uang tabungan saya di bank adalah\"))\n",
    "#total = int(dompet) + int(tabungan)\n",
    "print(\"Total uang saya adalah\" + \" \" +str(dompet+tabungan))\n",
    "#disini jika dirun, hasilnya akan \"Uang di dompet saya adalah1000\" disini saya belum menemukan solusi untuk membuat kata \"adalah\"\n",
    "#(lanjutan) dan \"uang di dompet saya adalah\" terpisah padahal saya sudah menambahkan \"+\" diantara keduanya. "
   ]
  },
  {
   "cell_type": "code",
   "execution_count": 18,
   "id": "88df1fc4",
   "metadata": {},
   "outputs": [
    {
     "data": {
      "text/plain": [
       "5"
      ]
     },
     "execution_count": 18,
     "metadata": {},
     "output_type": "execute_result"
    }
   ],
   "source": [
    "#tipe data integer\n",
    "#integer adalah tipe data yang menampung bilangan bulat baik positif maupun negatif\n",
    "data1 = 5\n",
    "int(data1)"
   ]
  },
  {
   "cell_type": "code",
   "execution_count": 19,
   "id": "5d1a72c9",
   "metadata": {},
   "outputs": [
    {
     "data": {
      "text/plain": [
       "2.5"
      ]
     },
     "execution_count": 19,
     "metadata": {},
     "output_type": "execute_result"
    }
   ],
   "source": [
    "#tipe data float\n",
    "#float adalah tipe data yang menampung bilangan desimal atau pecahan\n",
    "data2 = 2.5\n",
    "float(data2)"
   ]
  },
  {
   "cell_type": "code",
   "execution_count": 3,
   "id": "847e34f0",
   "metadata": {},
   "outputs": [
    {
     "ename": "SyntaxError",
     "evalue": "invalid syntax (3459007021.py, line 4)",
     "output_type": "error",
     "traceback": [
      "\u001b[1;36m  File \u001b[1;32m\"C:\\Users\\user\\AppData\\Local\\Temp\\ipykernel_15856\\3459007021.py\"\u001b[1;36m, line \u001b[1;32m4\u001b[0m\n\u001b[1;33m    float data1 = 13\u001b[0m\n\u001b[1;37m          ^\u001b[0m\n\u001b[1;31mSyntaxError\u001b[0m\u001b[1;31m:\u001b[0m invalid syntax\n"
     ]
    }
   ],
   "source": [
    "#kode untuk memuat angka pertama dan angka kedua\n",
    "#int karena data1 merupakan bilangan bulat\n",
    "#float karena data2 merupakan bilangan desimal\n",
    "float data1 = 13\n",
    "float data2 = 12.5\n",
    "#masukkan kode untuk menampilkan output\n",
    "print (\"Hasil Penjumlahan :\", float(data1+data2))\n",
    "#kode ini masih error, saya masih berusaha menemukan kode yang benar"
   ]
  },
  {
   "cell_type": "code",
   "execution_count": 2,
   "id": "19d81654",
   "metadata": {},
   "outputs": [
    {
     "name": "stdout",
     "output_type": "stream",
     "text": [
      "bilangan pertama :3\n",
      "bilangan kedua :2\n",
      "jumlah = 5.0\n"
     ]
    }
   ],
   "source": [
    "#kedua tipe data harus menggunakan float agar ketika memasukkan data yang berupa angka desimal, dia tetap bisa dijumlahkan\n",
    "x = float(input(\"bilangan pertama :\"))\n",
    "y = float(input(\"bilangan kedua :\"))\n",
    "print(\"jumlah =\",(x+y))"
   ]
  },
  {
   "cell_type": "code",
   "execution_count": 5,
   "id": "9bc2b80e",
   "metadata": {},
   "outputs": [
    {
     "name": "stdout",
     "output_type": "stream",
     "text": [
      "Aku sudah makan      nasi tadi sore\n"
     ]
    }
   ],
   "source": [
    "#tanda \\ digunakan untuk menyambungkan kalimat\n",
    "print(\"Aku sudah makan\\\n",
    "      nasi tadi sore\")"
   ]
  },
  {
   "cell_type": "code",
   "execution_count": 4,
   "id": "d8d159e8",
   "metadata": {},
   "outputs": [
    {
     "name": "stdout",
     "output_type": "stream",
     "text": [
      "True\n",
      "False\n"
     ]
    }
   ],
   "source": [
    "x = True\n",
    "y = False\n",
    "#huruf F harus besar, kalau menggunakan huruf kecil dia tidak terdefinisikan \n",
    "\n",
    "print(x)\n",
    "print(y)\n",
    "#dalam kode program diatas, input nilai boolean True ke dalam variabel x dan nilai boolean False ke dalam variabel y"
   ]
  }
 ],
 "metadata": {
  "kernelspec": {
   "display_name": "Python 3 (ipykernel)",
   "language": "python",
   "name": "python3"
  },
  "language_info": {
   "codemirror_mode": {
    "name": "ipython",
    "version": 3
   },
   "file_extension": ".py",
   "mimetype": "text/x-python",
   "name": "python",
   "nbconvert_exporter": "python",
   "pygments_lexer": "ipython3",
   "version": "3.9.13"
  }
 },
 "nbformat": 4,
 "nbformat_minor": 5
}
