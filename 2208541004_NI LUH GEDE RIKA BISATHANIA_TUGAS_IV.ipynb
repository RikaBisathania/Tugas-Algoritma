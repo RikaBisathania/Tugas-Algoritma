{
 "cells": [
  {
   "cell_type": "markdown",
   "id": "8f3282aa",
   "metadata": {},
   "source": [
    "# PERTEMUAN 4\n",
    "Senin, 27 Maret 2023"
   ]
  },
  {
   "cell_type": "markdown",
   "id": "3cdacdcb",
   "metadata": {},
   "source": [
    "# 5.11 While Loop\n",
    "While loop akan selalu dieksekusi selama nilainya True dan akan berhenti saat nilainya False"
   ]
  },
  {
   "cell_type": "code",
   "execution_count": 1,
   "id": "a84ccd15",
   "metadata": {},
   "outputs": [
    {
     "name": "stdout",
     "output_type": "stream",
     "text": [
      "Angka0Masih dibawah 5\n",
      "Angka1Masih dibawah 5\n",
      "Angka2Masih dibawah 5\n",
      "Angka3Masih dibawah 5\n",
      "Angka4Masih dibawah 5\n"
     ]
    }
   ],
   "source": [
    "#Latihan 1 While Loop \n",
    "\n",
    "a = 0\n",
    "while a<5:\n",
    "    print ('Angka' + str(a)+ 'Masih dibawah 5')\n",
    "    a += 1\n",
    "    #Disini diletakkan a += 1 untuk membuat perintah angka yang akan dioperasikan selanjutnya\n",
    "    #Jika tidak memberikan ini maka operasi akan berulang tidak terbatas dengan angka yang sama \n",
    "    #saya sudah mencoba untuk tidak menambahkan a += 1 alhasil komputer menjadi lag dan halaman tugas ini tidak dapat dibuka, dan ukuran file menjadi sangat besar"
   ]
  },
  {
   "cell_type": "code",
   "execution_count": 4,
   "id": "37221e28",
   "metadata": {},
   "outputs": [
    {
     "name": "stdout",
     "output_type": "stream",
     "text": [
      "1\n",
      "2\n",
      "5\n"
     ]
    }
   ],
   "source": [
    "#Latihan 2 While Loop \n",
    "\n",
    "a = 0\n",
    "while a<5:\n",
    "    a = a**2\n",
    "    a = a + 1\n",
    "    print (a)\n",
    "    #Letakkan print \n",
    "    #Hisini akan ditampil hasil yang dihasilkan oleh a = a**2 dan a = a+1\n",
    "    #Hasil ini akan menampilkan semua proses yang dihalsilkan sampai a<5"
   ]
  },
  {
   "cell_type": "code",
   "execution_count": 5,
   "id": "583d656e",
   "metadata": {},
   "outputs": [
    {
     "name": "stdout",
     "output_type": "stream",
     "text": [
      "5\n"
     ]
    }
   ],
   "source": [
    "#Latihan 3 While Loop\n",
    "\n",
    "a = 0\n",
    "while a<5:\n",
    "    a = a**2\n",
    "    a = a + 1\n",
    "print(a)\n",
    "#jika meletakkan print diluar operasi while, maka akan menampilkan hasil akhirnya sama \n",
    "#Bisa dilihat perbandingan hasil dari operasi while loop latihan 2 dan latihan 3"
   ]
  },
  {
   "cell_type": "code",
   "execution_count": 1,
   "id": "6e9dcddb",
   "metadata": {},
   "outputs": [
    {
     "name": "stdout",
     "output_type": "stream",
     "text": [
      "\n",
      "*\n",
      "**\n",
      "***\n",
      "****\n"
     ]
    }
   ],
   "source": [
    "#Latihan 4 While Loop\n",
    "\n",
    "a = 0\n",
    "while a<5:\n",
    "    print(a * '*')\n",
    "    a += 1\n",
    "    #a += 1 adalah untuk memberikan perintah bahwa proses selanjutnya adalah angka selanjutnya\n",
    "    #Jika tidak di berikan a +=1 maka hanya akan menghasilkan hasil yang sama secara berulang tidak terbatas\n",
    "    #Jangan dicoba, komputer akan lag dan seluruh halaman ini tidak akan bisa dibuka, serta ukuran file menjadi sangat besar"
   ]
  },
  {
   "cell_type": "code",
   "execution_count": 7,
   "id": "9c574b6d",
   "metadata": {},
   "outputs": [
    {
     "name": "stdout",
     "output_type": "stream",
     "text": [
      "Masukkan bilangan ganjil lebih dari 50: 70\n",
      "Salah, masukkan lagi: 51\n",
      "Benar\n"
     ]
    }
   ],
   "source": [
    "#Latihan 5 While Loop\n",
    "#Contoh prulangan while dengan imputan\n",
    "\n",
    "a = int(input('Masukkan bilangan ganjil lebih dari 50: '))\n",
    "#a didefinisikan sebagai bilangan ganjil yang lebih dari 50 \n",
    "\n",
    "\n",
    "while a % 2 != 1 or a <= 50:\n",
    "    #(%) artinya : Menghasilkan sisa bagi dari pembagian 2 bilangan tidak sama dengan 1\n",
    "  a = int(input('Salah, masukkan lagi: '))\n",
    "    #Akan ditampilkan apabila a dibagi 2 tidak sisa 1 atau a kurang dari sama dengan 50\n",
    "\n",
    "print('Benar')\n",
    "#Akan ditampilkan apabila a sisa pembagiannya adalah satu atau a lebih dari 50"
   ]
  },
  {
   "cell_type": "markdown",
   "id": "022acd23",
   "metadata": {},
   "source": [
    "# 5.12 List di Python\n",
    "List dapat digunakan saat kita akan mempresentasikan objek di dalam Python baik berupa string maupun berupa angka "
   ]
  },
  {
   "cell_type": "code",
   "execution_count": 1,
   "id": "3b1e9d45",
   "metadata": {},
   "outputs": [
    {
     "name": "stdout",
     "output_type": "stream",
     "text": [
      "['mangga', 'pisang', 'rambutan', 'durian']\n",
      "['baju', 'celana', 'rok', 'topi', 'sepatu']\n"
     ]
    }
   ],
   "source": [
    "#Latihan 1 List di Python\n",
    "\n",
    "pakaian = ['baju', 'celana', 'rok', 'topi', 'sepatu']\n",
    "print(pakaian)\n",
    "\n",
    "#kode ini merupakan kode paling sederhana, dengan memanggil nama himpunannya maka akan tercetak output anggota himpunannya"
   ]
  },
  {
   "cell_type": "code",
   "execution_count": 2,
   "id": "8205de0f",
   "metadata": {},
   "outputs": [
    {
     "name": "stdout",
     "output_type": "stream",
     "text": [
      "baju\n"
     ]
    }
   ],
   "source": [
    "#Latihan 2 List di Python\n",
    "\n",
    "print(pakaian[0])\n",
    "\n",
    "#kode ini akan menghasilkan anggota pertama dari himpunannya \n",
    "#Anggota himpunan pertama dimulai dari 0 lalu 1,2,3,4,...,dst"
   ]
  },
  {
   "cell_type": "code",
   "execution_count": 3,
   "id": "741c03b3",
   "metadata": {},
   "outputs": [
    {
     "name": "stdout",
     "output_type": "stream",
     "text": [
      "topi\n"
     ]
    }
   ],
   "source": [
    "#Latihan 3 List di Python\n",
    "\n",
    "print(pakaian[3])\n",
    "\n",
    "#Kode ini akan menghasikan output anggota himpunan keempat\n",
    "#Karena anggota pertama adalah 0"
   ]
  },
  {
   "cell_type": "code",
   "execution_count": 4,
   "id": "0cb2a09c",
   "metadata": {},
   "outputs": [
    {
     "name": "stdout",
     "output_type": "stream",
     "text": [
      "sepatu\n"
     ]
    }
   ],
   "source": [
    "#Latihan 4 List di Python\n",
    "\n",
    "print(pakaian[-1])\n",
    "\n",
    "#tanda (-) merupakan kode yang menandakan bahwa anggota himpunan pertama yang dihitung adalah anggota himpunan terakhir\n",
    "#Perhitungan dimulai dari belakang (dari kanan ke kiri) yaitu -1,-2,-3,...,dst"
   ]
  },
  {
   "cell_type": "code",
   "execution_count": 5,
   "id": "eb7e5698",
   "metadata": {},
   "outputs": [
    {
     "name": "stdout",
     "output_type": "stream",
     "text": [
      "rok\n"
     ]
    }
   ],
   "source": [
    "#Latihan 5 List di Python\n",
    "\n",
    "print(pakaian[-3])\n",
    "\n",
    "#Kode ini menandakan bahwa anggota himpunan pertama adalah yg paling belakang\n",
    "#[-3] berarti himpunan nomor 3 dari belakang"
   ]
  },
  {
   "cell_type": "code",
   "execution_count": 11,
   "id": "179e58e2",
   "metadata": {},
   "outputs": [
    {
     "name": "stdout",
     "output_type": "stream",
     "text": [
      "['sarung tangan', 'celana', 'rok', 'topi', 'sepatu']\n"
     ]
    }
   ],
   "source": [
    "#Latihan 6 List di Python\n",
    "\n",
    "pakaian[0] = 'sarung tangan'\n",
    "print(pakaian)\n",
    "\n",
    "#kode ini adalah untuk mengganti sebuah anggota himpunan\n",
    "#[0] berarti yang akan kita replace adalah anggota himpunan pertama yang awalnya adalah baju menjadi sarung tangan"
   ]
  },
  {
   "cell_type": "code",
   "execution_count": 3,
   "id": "c91edf5d",
   "metadata": {},
   "outputs": [
    {
     "name": "stdout",
     "output_type": "stream",
     "text": [
      "['baju', 'celana', 'rok']\n"
     ]
    }
   ],
   "source": [
    "#Latihan 7 List di Python\n",
    "\n",
    "pakaian = ['baju', 'celana', 'rok', 'topi', 'sepatu']\n",
    "print(pakaian[0:3])\n",
    "\n",
    "#kode ini adalah untuk menemukan sebagian anggota dari sebuah himpunan\n",
    "#[0:3], 0 adalah anggota pertama sampai anggota ke-3 dari himpunan tersebut (0,1,2,)"
   ]
  },
  {
   "cell_type": "markdown",
   "id": "d37fc073",
   "metadata": {},
   "source": [
    "# 5.13 Metoda List\n",
    "List merupakan objek, maka keberadaannya dapat dimanipulasi dengan menambahkan atau menghilangkan isinya"
   ]
  },
  {
   "cell_type": "code",
   "execution_count": 8,
   "id": "ba54ed1b",
   "metadata": {},
   "outputs": [
    {
     "name": "stdout",
     "output_type": "stream",
     "text": [
      "['komang', 'bayu', 'kresna', 'rika']\n"
     ]
    }
   ],
   "source": [
    "#Latihan 1 Metoda List\n",
    "\n",
    "nama = ['komang', 'bayu', 'kresna']\n",
    "nama. append('rika')\n",
    "#append berfungsi untuk menambahkan anggota sebuah himpunan\n",
    "print(nama)"
   ]
  },
  {
   "cell_type": "code",
   "execution_count": 9,
   "id": "1c8e33d5",
   "metadata": {},
   "outputs": [
    {
     "ename": "TypeError",
     "evalue": "list.append() takes exactly one argument (2 given)",
     "output_type": "error",
     "traceback": [
      "\u001b[1;31m---------------------------------------------------------------------------\u001b[0m",
      "\u001b[1;31mTypeError\u001b[0m                                 Traceback (most recent call last)",
      "\u001b[1;32m~\\AppData\\Local\\Temp\\ipykernel_20168\\860869426.py\u001b[0m in \u001b[0;36m<module>\u001b[1;34m\u001b[0m\n\u001b[0;32m      2\u001b[0m \u001b[1;33m\u001b[0m\u001b[0m\n\u001b[0;32m      3\u001b[0m \u001b[0mnama\u001b[0m \u001b[1;33m=\u001b[0m \u001b[1;33m[\u001b[0m\u001b[1;34m'komang'\u001b[0m\u001b[1;33m,\u001b[0m \u001b[1;34m'bayu'\u001b[0m\u001b[1;33m,\u001b[0m \u001b[1;34m'kresna'\u001b[0m\u001b[1;33m]\u001b[0m\u001b[1;33m\u001b[0m\u001b[1;33m\u001b[0m\u001b[0m\n\u001b[1;32m----> 4\u001b[1;33m \u001b[0mnama\u001b[0m\u001b[1;33m.\u001b[0m\u001b[0mappend\u001b[0m\u001b[1;33m(\u001b[0m\u001b[1;34m'rika'\u001b[0m\u001b[1;33m,\u001b[0m \u001b[1;34m'bisathania'\u001b[0m\u001b[1;33m)\u001b[0m\u001b[1;33m\u001b[0m\u001b[1;33m\u001b[0m\u001b[0m\n\u001b[0m\u001b[0;32m      5\u001b[0m \u001b[0mprint\u001b[0m\u001b[1;33m(\u001b[0m\u001b[0mnama\u001b[0m\u001b[1;33m)\u001b[0m\u001b[1;33m\u001b[0m\u001b[1;33m\u001b[0m\u001b[0m\n\u001b[0;32m      6\u001b[0m \u001b[1;33m\u001b[0m\u001b[0m\n",
      "\u001b[1;31mTypeError\u001b[0m: list.append() takes exactly one argument (2 given)"
     ]
    }
   ],
   "source": [
    "#Latihan 2 Metoda List\n",
    "\n",
    "nama = ['komang', 'bayu', 'kresna']\n",
    "nama.append('rika', 'bisathania')\n",
    "print(nama)\n",
    "\n",
    "#Pada kode ini jika kita nembahkan 2 anggota himpunan baru akan menghasilkan erorr"
   ]
  },
  {
   "cell_type": "code",
   "execution_count": 10,
   "id": "e9ebed89",
   "metadata": {},
   "outputs": [
    {
     "name": "stdout",
     "output_type": "stream",
     "text": [
      "['komang', 'bayu', 'kresna', 'rika', 'bisathania']\n"
     ]
    }
   ],
   "source": [
    "#Latihan 3 Metoda List\n",
    "\n",
    "nama = ['komang', 'bayu', 'kresna']\n",
    "nama. append ('rika')\n",
    "nama. append('bisathania')\n",
    "print(nama)\n",
    "\n",
    "#Untuk menambhkan 2 anggota himpuanan baru, kita harus membuat 2 buah (nama.append)\n",
    "#Begitupun jika kita ingin menambahkan berapapun anggota himpunan baru yang kita inginkan"
   ]
  },
  {
   "cell_type": "code",
   "execution_count": 2,
   "id": "c90fb98b",
   "metadata": {},
   "outputs": [
    {
     "name": "stdout",
     "output_type": "stream",
     "text": [
      "['rika', 'komang', 'bayu', 'kresna']\n"
     ]
    }
   ],
   "source": [
    "#Latihan 4 Metoda List\n",
    "\n",
    "nama = ['komang', 'bayu', 'kresna']\n",
    "nama.insert(0,'rika')\n",
    "print(nama)\n",
    "\n",
    "#Insert digunakan untuk menambahkan item pada indeks tertentu\n",
    "#(0,'rika') artinya menambahkan 'rika' sebelum item pertama"
   ]
  },
  {
   "cell_type": "code",
   "execution_count": 4,
   "id": "bcc2ebcb",
   "metadata": {},
   "outputs": [
    {
     "name": "stdout",
     "output_type": "stream",
     "text": [
      "['rika', 'komang', 'bayu']\n"
     ]
    }
   ],
   "source": [
    "#Latihan 5 Metoda List\n",
    "\n",
    "nama.remove(\"kresna\")\n",
    "print(nama)\n",
    "\n",
    "#remove berfungsi untuk menghapus suatu item/anggota"
   ]
  },
  {
   "cell_type": "code",
   "execution_count": 6,
   "id": "83580ebf",
   "metadata": {},
   "outputs": [
    {
     "name": "stdout",
     "output_type": "stream",
     "text": [
      "True\n"
     ]
    }
   ],
   "source": [
    "#Latihan 6 Metoda List\n",
    "\n",
    "print('komang' in nama)\n",
    "\n",
    "#Kode ini adalah untuk menemukan apakah suatu item tersedia pada himpunan\n",
    "#Karena 'komang' tersedia dalam himpunan nama, maka hasilnya adalah 'True'"
   ]
  },
  {
   "cell_type": "code",
   "execution_count": 7,
   "id": "712cdcdb",
   "metadata": {},
   "outputs": [
    {
     "name": "stdout",
     "output_type": "stream",
     "text": [
      "False\n"
     ]
    }
   ],
   "source": [
    "#Latihan 7 Metoda List\n",
    "\n",
    "print('diah' in nama)\n",
    "\n",
    "#karena 'diah' tidak ditemukan dalam himpunan 'nama', maka hasilnya adalah false"
   ]
  },
  {
   "cell_type": "code",
   "execution_count": 8,
   "id": "14f37a86",
   "metadata": {},
   "outputs": [
    {
     "name": "stdout",
     "output_type": "stream",
     "text": [
      "3\n"
     ]
    }
   ],
   "source": [
    "#Latihan 8 Metoda List\n",
    "\n",
    "print(len(nama))\n",
    "\n",
    "#fungsi len adalah untuk menghitung banyak anggota sebuah himpunan\n",
    "#karena himpunan kita tersisa 3, maka hasil lennya adalah 3"
   ]
  },
  {
   "cell_type": "markdown",
   "id": "2a9c62ba",
   "metadata": {},
   "source": [
    "# 5.14 For Loop\n",
    "Digunakan untuk memanggil samua isi list"
   ]
  },
  {
   "cell_type": "code",
   "execution_count": 9,
   "id": "74fd78f9",
   "metadata": {},
   "outputs": [
    {
     "name": "stdout",
     "output_type": "stream",
     "text": [
      "Ayu\n",
      "Bayu\n",
      "Caca\n",
      "Danan\n",
      "Esa\n",
      "Farun\n",
      "Guna\n",
      "Hasan\n"
     ]
    }
   ],
   "source": [
    "#Latihan 1 For Loop\n",
    "\n",
    "teman = ['Ayu', 'Bayu', 'Caca', 'Danan', 'Esa', 'Farun', 'Guna', 'Hasan']\n",
    "for jenis in teman :\n",
    "    print(jenis)\n",
    "    \n",
    "#Kode ini adalah untuk menguraikan data dari yang awalnya di dalam himpunan, menjadi berururan dari atas ke bawah"
   ]
  },
  {
   "cell_type": "code",
   "execution_count": 11,
   "id": "13975125",
   "metadata": {},
   "outputs": [
    {
     "name": "stdout",
     "output_type": "stream",
     "text": [
      "Ayu\n",
      "Bayu\n",
      "Caca\n",
      "Danan\n",
      "Esa\n",
      "Farun\n",
      "Guna\n",
      "Hasan\n"
     ]
    }
   ],
   "source": [
    "#Latihan 2 For Loop\n",
    "\n",
    "i = 0\n",
    "while i < len(teman):\n",
    "    print(teman[i])\n",
    "    i+=1\n",
    "    #Pastikan untuk menggunakan kode ini agar urutannya dapat terbaca\n",
    "    \n",
    "#Selain menggunakan for, kita juga dapat untuk menggunakan while"
   ]
  },
  {
   "cell_type": "markdown",
   "id": "6ad47f31",
   "metadata": {},
   "source": [
    "# 5.15 Fungsi Range\n",
    "Berguna untuk membangkitkan bilangan berurutan atau berpola yang kita inginkan. untuk menuliskannya perlu dikombinasikan dengan dor loop"
   ]
  },
  {
   "cell_type": "code",
   "execution_count": 1,
   "id": "c7d3585e",
   "metadata": {},
   "outputs": [
    {
     "name": "stdout",
     "output_type": "stream",
     "text": [
      "range(0, 6)\n"
     ]
    }
   ],
   "source": [
    "#Latihan 1 Fungsi Range\n",
    "angka = range(6)\n",
    "print(angka)\n",
    "\n",
    "#Pada saat inputnya 1, menggunakan range(x)\n",
    "#Artinya dari X hingga Y\n",
    "#Pada kode ini berarti dari 0 hingga 6"
   ]
  },
  {
   "cell_type": "code",
   "execution_count": 3,
   "id": "9ea06356",
   "metadata": {},
   "outputs": [
    {
     "name": "stdout",
     "output_type": "stream",
     "text": [
      "range(2, 9)\n"
     ]
    }
   ],
   "source": [
    "#Latihan 2 Fungsi Range\n",
    "\n",
    "angka = range(2,9)\n",
    "print (angka)\n",
    "\n",
    "#Pada saat inputnya dua, range(X,Y)\n",
    "#Artinya dari x hingga y"
   ]
  },
  {
   "cell_type": "code",
   "execution_count": 5,
   "id": "cb4048c8",
   "metadata": {},
   "outputs": [
    {
     "name": "stdout",
     "output_type": "stream",
     "text": [
      "range(1, 10, 2)\n"
     ]
    }
   ],
   "source": [
    "#Latihan 3 Fungsi Range\n",
    "\n",
    "angka = range(1, 10, 2)\n",
    "print(angka)\n",
    "\n",
    "#Saat inputnya 3, range (X, Y, Z)\n",
    "#Artinya dari x hingga y dengan penambahan sebanyak z"
   ]
  },
  {
   "cell_type": "code",
   "execution_count": 10,
   "id": "3eda691c",
   "metadata": {},
   "outputs": [
    {
     "name": "stdout",
     "output_type": "stream",
     "text": [
      "1\n",
      "3\n",
      "5\n",
      "7\n",
      "9\n"
     ]
    }
   ],
   "source": [
    "#Latihan 4 Fungsi Range\n",
    "\n",
    "angka = range(1, 10, 2)\n",
    "for isi in angka:\n",
    "    print(isi)\n",
    "    \n",
    "#Kode ini adalah untuk menyebutkan semua anggota range"
   ]
  },
  {
   "cell_type": "code",
   "execution_count": 11,
   "id": "a35715d0",
   "metadata": {},
   "outputs": [
    {
     "name": "stdout",
     "output_type": "stream",
     "text": [
      "2\n",
      "3\n",
      "4\n",
      "5\n",
      "6\n",
      "7\n",
      "8\n"
     ]
    }
   ],
   "source": [
    "#Latihan 5 Fungsi Range\n",
    "\n",
    "angka = range(2,9)\n",
    "for isi in angka:\n",
    "    print(isi)\n",
    "    \n",
    "#Kode untuk memperlihatkan semua anggota range "
   ]
  }
 ],
 "metadata": {
  "kernelspec": {
   "display_name": "Python 3 (ipykernel)",
   "language": "python",
   "name": "python3"
  },
  "language_info": {
   "codemirror_mode": {
    "name": "ipython",
    "version": 3
   },
   "file_extension": ".py",
   "mimetype": "text/x-python",
   "name": "python",
   "nbconvert_exporter": "python",
   "pygments_lexer": "ipython3",
   "version": "3.9.13"
  }
 },
 "nbformat": 4,
 "nbformat_minor": 5
}
