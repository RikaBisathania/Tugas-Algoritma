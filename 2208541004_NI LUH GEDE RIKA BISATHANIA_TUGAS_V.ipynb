{
 "cells": [
  {
   "cell_type": "markdown",
   "id": "998fe3c7",
   "metadata": {},
   "source": [
    "# 5.16 List 2 Dimensi"
   ]
  },
  {
   "cell_type": "code",
   "execution_count": 1,
   "id": "acbf591c",
   "metadata": {},
   "outputs": [
    {
     "name": "stdout",
     "output_type": "stream",
     "text": [
      "[[1, 2, 3, 4], [5, 6, 7, 8], [9, 10, 11, 12, 13, 14], [15, 16, 17, 18, 19, 20]]\n"
     ]
    }
   ],
   "source": [
    "#Latihan 1 List 2 Dimensi\n",
    "matrix = [\n",
    "    #Awali List dengan [ yang mengartikan bentuk program ini adalah list\n",
    "    #Nama dari list adalah bebas\n",
    "    [1,2,3,4],\n",
    "    [5,6,7,8],\n",
    "    [9,10,11,12,13,14],\n",
    "    [15,16,17,18,19,20]\n",
    "]\n",
    "#Jangan lupa akhiri dengan ] yang menandakan list ditutup\n",
    "print(matrix)\n",
    "#Print(matrix) berfungsi untuk mendapatkan output dari list yang sudah kita tulis di dalam tanda []"
   ]
  },
  {
   "cell_type": "code",
   "execution_count": 2,
   "id": "ffa82948",
   "metadata": {},
   "outputs": [
    {
     "name": "stdout",
     "output_type": "stream",
     "text": [
      "[1, 2, 3, 4]\n",
      "[5, 6, 7, 8]\n",
      "[9, 10, 11, 12, 13, 14]\n",
      "[15, 16, 17, 18, 19, 20]\n"
     ]
    }
   ],
   "source": [
    "#Latihan 2 List 2 Dimensi\n",
    "for i in matrix:\n",
    "    print(i)\n",
    "    #variabel i dipakai untuk menyimpan isi dari element yang saat ini sedang diproses.\n",
    "    #Nama variabel i sendiri boleh bebas, fungsinya hanya sebagai variabel bantu saja\n",
    "\n",
    "#Dalam format ini, kita mendefinisikan variabel matrix sebagai sebuah array atau himpunan (salah satu dari tipe data string, list, tuple, set atau dictionary).\n",
    "#Perulangan for akan dijalankan sebanyak jumlah elemen yang ada di dalam variabel matrix."
   ]
  },
  {
   "cell_type": "code",
   "execution_count": 3,
   "id": "8c3985c2",
   "metadata": {
    "scrolled": true
   },
   "outputs": [
    {
     "name": "stdout",
     "output_type": "stream",
     "text": [
      "[1, 2, 3, 4]\n",
      "1\n",
      "2\n",
      "3\n",
      "4\n",
      "[5, 6, 7, 8]\n",
      "5\n",
      "6\n",
      "7\n",
      "8\n",
      "[9, 10, 11, 12, 13, 14]\n",
      "9\n",
      "10\n",
      "11\n",
      "12\n",
      "13\n",
      "14\n",
      "[15, 16, 17, 18, 19, 20]\n",
      "15\n",
      "16\n",
      "17\n",
      "18\n",
      "19\n",
      "20\n"
     ]
    }
   ],
   "source": [
    "#Latihan 3 List 2 Dimensi\n",
    "for baris in matrix:\n",
    "    print(baris)\n",
    "    #Disini dibuktikan bahwa i tidak selalu harus diberi nama i, contohnya bisa saja \"baris\"\n",
    "    \n",
    "    for j in baris:\n",
    "        print(j)\n",
    "        #Program ini adalah proses kedua dari for\n",
    "        #Data yang sudah diurutkan menjadi \n",
    "        #[1,2,3,4]\n",
    "        #[5,6,7,8]\n",
    "        #[9, 10, 11, 12, 13, 14]\n",
    "        #[15, 16, 17, 18, 19, 20]\n",
    "        #Diurutkan lagi menjadi \n",
    "        #1\n",
    "        #2\n",
    "        #3\n",
    "        #4, dst\n",
    "        \n",
    "#Program ini memuat 2 kali proses sehingga menyebabkan anggota list 'matrix' menjadi terurai"
   ]
  },
  {
   "cell_type": "markdown",
   "id": "e8b12ec7",
   "metadata": {},
   "source": [
    "# 5.17 Tuples"
   ]
  },
  {
   "cell_type": "code",
   "execution_count": 4,
   "id": "1126e94f",
   "metadata": {},
   "outputs": [],
   "source": [
    "angka = (0,1,1,3,4,5)\n",
    "\n",
    "#List berikutnya diberi nama angka yang anggotanya adalah 0,1,1,3,4,5\n",
    "#Tuples adalah urutan objek Python yang tidak berubah. \n",
    "#Tuples adalah urutan, seperti daftar. \n",
    "#Perbedaan utama antara Tuples dan daftarnya adalah bahwa tuples tidak dapat diubah tidak seperti List Python. \n",
    "#Tuples menggunakan tanda kurung, sedangkan List Python menggunakan tanda kurung siku."
   ]
  },
  {
   "cell_type": "code",
   "execution_count": 5,
   "id": "629ffc54",
   "metadata": {},
   "outputs": [
    {
     "name": "stdout",
     "output_type": "stream",
     "text": [
      "0\n"
     ]
    }
   ],
   "source": [
    "#Latihan 1 Tuples\n",
    "\n",
    "print(angka[0])\n",
    "#Kode ini memerintahkan untuk mencetak elemen pertama dari list\n",
    "\n",
    "#Kode ini merupakan untuk menampilkan elemen/anggota dari list \n",
    "#0 = elemen ke 0\n",
    "#1 = elemen ke 1\n",
    "#1 = elemen ke 2\n",
    "#3 = elemen ke 3\n",
    "#4 = elemen ke 4\n",
    "#5 = elemen ke 5\n",
    "\n",
    "#Sehingga hasil dari program ini adalah 0"
   ]
  },
  {
   "cell_type": "code",
   "execution_count": 6,
   "id": "3725c04e",
   "metadata": {},
   "outputs": [
    {
     "name": "stdout",
     "output_type": "stream",
     "text": [
      "5\n"
     ]
    }
   ],
   "source": [
    "#Latihan 2 Tuples\n",
    "\n",
    "print(angka[5])\n",
    "#Kode ini memerintahkan untuk mencetak elemen ke 5 yaitu adalah 5"
   ]
  },
  {
   "cell_type": "code",
   "execution_count": 7,
   "id": "e0b26590",
   "metadata": {},
   "outputs": [
    {
     "name": "stdout",
     "output_type": "stream",
     "text": [
      "(0, 1, 1)\n"
     ]
    }
   ],
   "source": [
    "#Latihan 3 Tuples\n",
    "\n",
    "print(angka[0:3])\n",
    "#[0:3] merupakan perintah untuk mencetak dari elemen pertama sampai elemen ke 2 dan elemen ke 3 tidak dicetak \n",
    "#Alhasil, cetakan dari kode ini adalah (0,1,1)\n",
    "# 0 sebagai elemen ke 0\n",
    "# 1 sebagai elemen ke 1\n",
    "# 1 sebagai elemen ke 2"
   ]
  },
  {
   "cell_type": "code",
   "execution_count": 8,
   "id": "0908310c",
   "metadata": {},
   "outputs": [
    {
     "name": "stdout",
     "output_type": "stream",
     "text": [
      "0\n",
      "1\n",
      "1\n"
     ]
    }
   ],
   "source": [
    "#Latihan 4 Tuples\n",
    "\n",
    "for isi in angka[0:3]:\n",
    "    print(isi)\n",
    "    \n",
    "    #Perintah for pada program ini berfungsi sama dengan perintah for pada list 2 dimensi\n",
    "    #Hasil dari program ini adalah (0,1,1) akan diuraikan ke bawah"
   ]
  },
  {
   "cell_type": "code",
   "execution_count": 9,
   "id": "90f736e9",
   "metadata": {},
   "outputs": [
    {
     "ename": "TypeError",
     "evalue": "'tuple' object does not support item assignment",
     "output_type": "error",
     "traceback": [
      "\u001b[1;31m---------------------------------------------------------------------------\u001b[0m",
      "\u001b[1;31mTypeError\u001b[0m                                 Traceback (most recent call last)",
      "\u001b[1;32m~\\AppData\\Local\\Temp\\ipykernel_18600\\293298453.py\u001b[0m in \u001b[0;36m<module>\u001b[1;34m\u001b[0m\n\u001b[0;32m      1\u001b[0m \u001b[1;31m#Latihan 5 Tuples\u001b[0m\u001b[1;33m\u001b[0m\u001b[1;33m\u001b[0m\u001b[0m\n\u001b[0;32m      2\u001b[0m \u001b[1;33m\u001b[0m\u001b[0m\n\u001b[1;32m----> 3\u001b[1;33m \u001b[0mangka\u001b[0m\u001b[1;33m[\u001b[0m\u001b[1;36m0\u001b[0m\u001b[1;33m]\u001b[0m \u001b[1;33m=\u001b[0m \u001b[1;36m10\u001b[0m\u001b[1;33m\u001b[0m\u001b[1;33m\u001b[0m\u001b[0m\n\u001b[0m\u001b[0;32m      4\u001b[0m \u001b[1;33m\u001b[0m\u001b[0m\n\u001b[0;32m      5\u001b[0m \u001b[1;31m#Program ini tidak bisa menjalankan perintah karena tumples tidak bisa direplace\u001b[0m\u001b[1;33m\u001b[0m\u001b[1;33m\u001b[0m\u001b[0m\n",
      "\u001b[1;31mTypeError\u001b[0m: 'tuple' object does not support item assignment"
     ]
    }
   ],
   "source": [
    "#Latihan 5 Tuples\n",
    "\n",
    "angka[0] = 10\n",
    "\n",
    "#Program ini tidak bisa menjalankan perintah karena tuples tidak bisa direplace\n",
    "#Kita menggunakan Tuples apabila kita memiliki data yang tidak inggin dirubah, jika ingin dirubah menggunakan list"
   ]
  },
  {
   "cell_type": "code",
   "execution_count": 10,
   "id": "19d2e5b0",
   "metadata": {
    "scrolled": true
   },
   "outputs": [
    {
     "ename": "AttributeError",
     "evalue": "'tuple' object has no attribute 'append'",
     "output_type": "error",
     "traceback": [
      "\u001b[1;31m---------------------------------------------------------------------------\u001b[0m",
      "\u001b[1;31mAttributeError\u001b[0m                            Traceback (most recent call last)",
      "\u001b[1;32m~\\AppData\\Local\\Temp\\ipykernel_18600\\1078297358.py\u001b[0m in \u001b[0;36m<module>\u001b[1;34m\u001b[0m\n\u001b[0;32m      1\u001b[0m \u001b[1;31m#Latihan 6 Tuples\u001b[0m\u001b[1;33m\u001b[0m\u001b[1;33m\u001b[0m\u001b[0m\n\u001b[0;32m      2\u001b[0m \u001b[1;33m\u001b[0m\u001b[0m\n\u001b[1;32m----> 3\u001b[1;33m \u001b[0mangka\u001b[0m\u001b[1;33m.\u001b[0m\u001b[0mappend\u001b[0m\u001b[1;33m(\u001b[0m\u001b[1;36m10\u001b[0m\u001b[1;33m)\u001b[0m\u001b[1;33m\u001b[0m\u001b[1;33m\u001b[0m\u001b[0m\n\u001b[0m\u001b[0;32m      4\u001b[0m \u001b[1;33m\u001b[0m\u001b[0m\n\u001b[0;32m      5\u001b[0m \u001b[1;31m#Append sebenarnya berfungsi untuk menambahkan anggota terakhir pada sebuah list\u001b[0m\u001b[1;33m\u001b[0m\u001b[1;33m\u001b[0m\u001b[0m\n",
      "\u001b[1;31mAttributeError\u001b[0m: 'tuple' object has no attribute 'append'"
     ]
    }
   ],
   "source": [
    "#Latihan 6 Tuples\n",
    "\n",
    "angka.append(10)\n",
    "\n",
    "#Append sebenarnya berfungsi untuk menambahkan anggota terakhir pada sebuah list\n",
    "#Mengingat ini bukanlah list melainkan Tuples, maka 'append' tidak bisa bekerja pada program ini"
   ]
  },
  {
   "cell_type": "code",
   "execution_count": 11,
   "id": "9515edf2",
   "metadata": {},
   "outputs": [
    {
     "ename": "AttributeError",
     "evalue": "'tuple' object has no attribute 'remove'",
     "output_type": "error",
     "traceback": [
      "\u001b[1;31m---------------------------------------------------------------------------\u001b[0m",
      "\u001b[1;31mAttributeError\u001b[0m                            Traceback (most recent call last)",
      "\u001b[1;32m~\\AppData\\Local\\Temp\\ipykernel_18600\\3913021234.py\u001b[0m in \u001b[0;36m<module>\u001b[1;34m\u001b[0m\n\u001b[0;32m      1\u001b[0m \u001b[1;31m#Latihan 7 Tuples\u001b[0m\u001b[1;33m\u001b[0m\u001b[1;33m\u001b[0m\u001b[0m\n\u001b[0;32m      2\u001b[0m \u001b[1;33m\u001b[0m\u001b[0m\n\u001b[1;32m----> 3\u001b[1;33m \u001b[0mangka\u001b[0m\u001b[1;33m.\u001b[0m\u001b[0mremove\u001b[0m\u001b[1;33m(\u001b[0m\u001b[1;36m5\u001b[0m\u001b[1;33m)\u001b[0m\u001b[1;33m\u001b[0m\u001b[1;33m\u001b[0m\u001b[0m\n\u001b[0m\u001b[0;32m      4\u001b[0m \u001b[1;33m\u001b[0m\u001b[0m\n\u001b[0;32m      5\u001b[0m \u001b[1;31m#Remove pada program ini sebenarnya berfungsi untuk menghapus elemen '5' pada sebuah list\u001b[0m\u001b[1;33m\u001b[0m\u001b[1;33m\u001b[0m\u001b[0m\n",
      "\u001b[1;31mAttributeError\u001b[0m: 'tuple' object has no attribute 'remove'"
     ]
    }
   ],
   "source": [
    "#Latihan 7 Tuples\n",
    "\n",
    "angka.remove(5)\n",
    "\n",
    "#Remove pada program ini sebenarnya berfungsi untuk menghapus elemen '5' pada sebuah list\n",
    "#Namun, karena program ini merupakan Tuples, maka perintah remove tidak bisa dijalankan "
   ]
  },
  {
   "cell_type": "code",
   "execution_count": null,
   "id": "808f0194",
   "metadata": {},
   "outputs": [],
   "source": [
    "#Latihan 8 Tuples\n",
    "\n",
    "angka.count(1)\n",
    "\n",
    "#Count pada program ini berfungsi untuk menghitung jumlah angka 1 pada tuples 'angka'\n",
    "#Hanya ada 2 angka 1 pada Tuples 'angka', sehingga 1+1 = 2\n",
    "#Maka hasil dari program ini adalah 2"
   ]
  },
  {
   "cell_type": "code",
   "execution_count": null,
   "id": "29bef362",
   "metadata": {},
   "outputs": [],
   "source": [
    "#Latihan 9 Tuples\n",
    "\n",
    "angka.index(3)\n",
    "\n",
    "#Fungsi index pada program ini adalah untuk mengetahui posisi elemen, pada kasus ini adalah elemen 3\n",
    "#Elemen angka 3 terletak pada urutan ke 3 dalam list 'angka'\n",
    "#Jadi hasil dari program ini adalah 3"
   ]
  },
  {
   "cell_type": "code",
   "execution_count": null,
   "id": "a2105a67",
   "metadata": {},
   "outputs": [],
   "source": [
    "#Latihan 10 Tuples\n",
    "\n",
    "tup1 = (50,) \n",
    "print(tup1[0])\n",
    "\n",
    "#Jika elemen tuple hanya ada 1 elemen saja, tetap harus menuliskan ',' karena jika tidak program akan error"
   ]
  },
  {
   "cell_type": "code",
   "execution_count": null,
   "id": "41191c42",
   "metadata": {},
   "outputs": [],
   "source": [
    "#Latihan 11 Tuples\n",
    "#Update Nilai Dalam Tuple Python\n",
    "\n",
    "tup1 = (12, 34.56)\n",
    "tup2 = ('abc', 'xyz')\n",
    "tup3 = tup1 + tup2\n",
    "print (tup3)\n",
    "\n",
    "#Karena elemen pada tuples tidak bisa ditambahkan, maka kita bisa siasati dengan menggabungkan antara elemen 1 dan elemen 2 \n",
    "#Kemudian kita mencetak elemen baru yang merupakangabungan dari 2 elemen sebelumnya "
   ]
  },
  {
   "cell_type": "markdown",
   "id": "17920f22",
   "metadata": {},
   "source": [
    "# 5.18 Dictionaries"
   ]
  },
  {
   "cell_type": "code",
   "execution_count": 12,
   "id": "97da9378",
   "metadata": {},
   "outputs": [],
   "source": [
    "data_orang = {\n",
    "    'nama': 'Ni Luh Gede Rika Bisathania',\n",
    "    'umur' : 19,\n",
    "    'apakah_singel' : False\n",
    "}\n",
    "\n",
    "#Dictionaries digunakan jika datanya terkait satu sama lain\n",
    "#Karena kumpulan nilai di dictionary menggunakan key dan value, maka setiap key dipisahkan dari value-nya dengan tanda titik dua \":\"  \n",
    "#setiap nilai dipisahkan tanda koma , dan di bungkus menggunakan tanda kurung kurawal {}.\n",
    "#Untuk nilai dari value bisa di isi dengan tipe data apapun (string, list, boolean, dictionary, dll),\n",
    "#Sedangkan untuk key harus berupa tipe data yang tidak berubah seperti string atau number."
   ]
  },
  {
   "cell_type": "code",
   "execution_count": 13,
   "id": "5d69f86d",
   "metadata": {},
   "outputs": [
    {
     "name": "stdout",
     "output_type": "stream",
     "text": [
      "Ni Luh Gede Rika Bisathania\n"
     ]
    }
   ],
   "source": [
    "#latihan 1 Dictionaries\n",
    "\n",
    "print(data_orang['nama'])\n",
    "\n",
    "#Pada program ini kita memanggil definisi dari 'nama' pada dictionaries data_orang\n",
    "#'nama' didefinisikan dengan 'Ni Luh Gede Rika Bisathania'\n",
    "#Sehingga hasilnya adalah Ni Luh Gede Rika Bisathania"
   ]
  },
  {
   "cell_type": "code",
   "execution_count": 14,
   "id": "61c22093",
   "metadata": {},
   "outputs": [
    {
     "name": "stdout",
     "output_type": "stream",
     "text": [
      "Ni Luh Gede Rika Bisathania\n"
     ]
    }
   ],
   "source": [
    "#latihan 2 Dictionaries\n",
    "\n",
    "print(data_orang.get('nama'))\n",
    "\n",
    "#Program ini sebenarnya berfungsi sama seperti Latihan 1, namun yang membedakan adalah penggunaan 'get'\n",
    "#Kalau menggunakan get pakai (), sedangkan kalau tidak pakai menggunakan []"
   ]
  },
  {
   "cell_type": "code",
   "execution_count": 15,
   "id": "e23a24aa",
   "metadata": {},
   "outputs": [
    {
     "name": "stdout",
     "output_type": "stream",
     "text": [
      "None\n"
     ]
    }
   ],
   "source": [
    "#latihan 3 Dictionaries\n",
    "\n",
    "print(data_orang.get('Nama'))\n",
    "\n",
    "#Perintah get tidak menemukan 'Nama' karena yang digunakan adalah 'nama'\n",
    "#Sehingga komputer tidak menemukan definisi dari 'Nama' dan mengeluarkan hasil 'None'"
   ]
  },
  {
   "cell_type": "code",
   "execution_count": 16,
   "id": "c8f71e8b",
   "metadata": {},
   "outputs": [
    {
     "name": "stdout",
     "output_type": "stream",
     "text": [
      "None\n"
     ]
    }
   ],
   "source": [
    "#latihan 4 Dictionaries\n",
    "\n",
    "print(data_orang.get('tanggal_lahir'))\n",
    "\n",
    "#Tanggal lahir tidak ditemukan karena memang tidak dicantumkan "
   ]
  },
  {
   "cell_type": "code",
   "execution_count": 17,
   "id": "67e5a6ca",
   "metadata": {},
   "outputs": [
    {
     "ename": "KeyError",
     "evalue": "'tanggal_lahir'",
     "output_type": "error",
     "traceback": [
      "\u001b[1;31m---------------------------------------------------------------------------\u001b[0m",
      "\u001b[1;31mKeyError\u001b[0m                                  Traceback (most recent call last)",
      "\u001b[1;32m~\\AppData\\Local\\Temp\\ipykernel_18600\\1379329742.py\u001b[0m in \u001b[0;36m<module>\u001b[1;34m\u001b[0m\n\u001b[0;32m      1\u001b[0m \u001b[1;31m#latihan 5 Dictionaries\u001b[0m\u001b[1;33m\u001b[0m\u001b[1;33m\u001b[0m\u001b[0m\n\u001b[0;32m      2\u001b[0m \u001b[1;33m\u001b[0m\u001b[0m\n\u001b[1;32m----> 3\u001b[1;33m \u001b[0mprint\u001b[0m\u001b[1;33m(\u001b[0m\u001b[0mdata_orang\u001b[0m\u001b[1;33m[\u001b[0m\u001b[1;34m'tanggal_lahir'\u001b[0m\u001b[1;33m]\u001b[0m\u001b[1;33m)\u001b[0m\u001b[1;33m\u001b[0m\u001b[1;33m\u001b[0m\u001b[0m\n\u001b[0m\u001b[0;32m      4\u001b[0m \u001b[1;33m\u001b[0m\u001b[0m\n\u001b[0;32m      5\u001b[0m \u001b[1;31m#Jika kita menggunakan kurung siku [], apabila definisi tidak ditemukan, dia tidak akan mengeluarkan hasil 'None', melainkan error\u001b[0m\u001b[1;33m\u001b[0m\u001b[1;33m\u001b[0m\u001b[0m\n",
      "\u001b[1;31mKeyError\u001b[0m: 'tanggal_lahir'"
     ]
    }
   ],
   "source": [
    "#latihan 5 Dictionaries\n",
    "\n",
    "print(data_orang['tanggal_lahir'])\n",
    "\n",
    "#Jika kita menggunakan kurung siku [], apabila definisi tidak ditemukan, dia tidak akan mengeluarkan hasil 'None', melainkan error"
   ]
  },
  {
   "cell_type": "code",
   "execution_count": 18,
   "id": "ae764b95",
   "metadata": {},
   "outputs": [
    {
     "name": "stdout",
     "output_type": "stream",
     "text": [
      "29 Februari 2004\n"
     ]
    }
   ],
   "source": [
    "#latihan 6 Dictionaries\n",
    "\n",
    "print(data_orang.get('tanggal_lahir', '29 Februari 2004'))\n",
    "\n",
    "#Program ini adalah untuk menambahkan data yang tidak didefinisikan\n",
    "#Pada Latihan 4 Dictionaris, 'tanggal_lahir' menghasilkan output 'None'\n",
    "#Namun, setelah ditambahkan '29 Februari 2004' pada perintah get, dia akan menghasilkan 29 Februari 2004\n",
    "#Perintah ini tidak permanen.\n",
    "#Jika ingin perintah menjadi permanen, bisa menambahkan definisi 'tanggal_lahir' pada data_orang yang paling awal"
   ]
  },
  {
   "cell_type": "code",
   "execution_count": 19,
   "id": "09021d6e",
   "metadata": {},
   "outputs": [
    {
     "name": "stdout",
     "output_type": "stream",
     "text": [
      "{'nama': 'Ni Luh Gede Rika Bisathania', 'umur': 19, 'apakah_singel': False}\n"
     ]
    }
   ],
   "source": [
    "#latihan 7 Dictionaries\n",
    "\n",
    "print(data_orang)\n",
    "\n",
    "#Pada program ini dibuktikan bahwa 'tanggal_lahir' yang sudah ditambahkan pada latihan 6 Dictionaries tidak permanen\n",
    "#Buktinya, jika kita print(data_orang) hanya akan keluar definisi nama, umur, dan apakah singel"
   ]
  },
  {
   "cell_type": "code",
   "execution_count": 20,
   "id": "4b3c0114",
   "metadata": {},
   "outputs": [],
   "source": [
    "#latihan 8 Dictionaries\n",
    "\n",
    "data_orang['nomor_HP'] = '089634821414'\n",
    "\n",
    "#Memasukkan data baru pada 'data_orang'"
   ]
  },
  {
   "cell_type": "code",
   "execution_count": 21,
   "id": "3e0be542",
   "metadata": {},
   "outputs": [
    {
     "name": "stdout",
     "output_type": "stream",
     "text": [
      "089634821414\n"
     ]
    }
   ],
   "source": [
    "#latihan 9 Dictionaries\n",
    "\n",
    "print(data_orang['nomor_HP'])\n",
    "\n",
    "#Cetak 'nomor_HP', maka definisinya akan tercetak"
   ]
  },
  {
   "cell_type": "code",
   "execution_count": 28,
   "id": "2d1c0958",
   "metadata": {},
   "outputs": [
    {
     "name": "stdout",
     "output_type": "stream",
     "text": [
      "{'nama': 'Ni Luh Gede Rika Bisathania', 'umur': 19, 'apakah_singel': False, 'nomor_HP': '089634821414'}\n"
     ]
    }
   ],
   "source": [
    "#latihan 10 Dictionaries\n",
    "\n",
    "print(data_orang)\n",
    "\n",
    "#Dengan menggunakan program seperti ini, data akan berubah secara permanen\n",
    "#Sekarang, 'data_orang' akan berisi nama, umur, apakah_singel, dan nomor_HP"
   ]
  },
  {
   "cell_type": "code",
   "execution_count": 37,
   "id": "2a19aa40",
   "metadata": {},
   "outputs": [
    {
     "name": "stdout",
     "output_type": "stream",
     "text": [
      "Judul -> Ayo Belajar Algoritma\n",
      "Penulis -> Rika Bisathania\n",
      "Tanggal Terbit -> 31 Maret 2030\n",
      "Penerbit -> Surya Pustaka\n",
      "Target Pasar -> Pelajar\n"
     ]
    }
   ],
   "source": [
    "#latihan 11 Dictionaries\n",
    "\n",
    "buku = {\n",
    "    'Judul' : 'Ayo Belajar Algoritma',\n",
    "    'Penulis' : 'Rika Bisathania',\n",
    "    'Tanggal Terbit' : '31 Maret 2030',\n",
    "    'Penerbit' : 'Surya Pustaka',\n",
    "    'Target Pasar' : 'Pelajar'\n",
    "    #Saat memasukkan data, ingat untuk memberikan koma(,) pada akhir kalimat, kecuali data terakhir\n",
    "}\n",
    "\n",
    "for key in buku:\n",
    "  print(key, '->', buku[key])\n",
    "\n",
    "#Kita juga bisa menampilkan semua isi dari sebuah dictionary dengan memanfaatkan perulangan."
   ]
  },
  {
   "cell_type": "code",
   "execution_count": 38,
   "id": "3bba07b0",
   "metadata": {},
   "outputs": [
    {
     "name": "stdout",
     "output_type": "stream",
     "text": [
      "Judul -> Ayo Belajar Algoritma\n",
      "Penulis -> Rika Bisathania\n",
      "Tanggal Terbit -> 31 Maret 2030\n",
      "Penerbit -> Surya Pustaka\n",
      "Target Pasar -> Pelajar\n"
     ]
    }
   ],
   "source": [
    "#latihan 12 Dictionaries\n",
    "\n",
    "for nama_atribut, nilai in buku.items():\n",
    "  print(nama_atribut, '->', nilai)\n",
    "\n",
    "#Atau kita juga bisa memanggil fungsi dictionary.items() untuk perulangan yang lebih simpel\n",
    "#Definisikan data dari 'buku' dengan nama 'nama_atribut'"
   ]
  },
  {
   "cell_type": "code",
   "execution_count": 24,
   "id": "2db50e43",
   "metadata": {},
   "outputs": [],
   "source": [
    "#Membuat program untuk merubah nomor HP yang tadinya berupa angka menjadi sebutan bilangan tersebut\n",
    "\n",
    "angka = {\n",
    "    '0' : 'nol',\n",
    "    '1' : 'satu',\n",
    "    '2' : 'dua',\n",
    "    '3' : 'tiga',\n",
    "    '4' : 'empat',\n",
    "    '5' : 'lima',\n",
    "    '6' : 'enam',\n",
    "    '7' : 'tujuh',\n",
    "    '8' : 'delapan',\n",
    "    '9' : 'sembilan'\n",
    "}\n",
    "\n",
    "#Kita definisikan terlebih dahulu semua angka menjadi huruf"
   ]
  },
  {
   "cell_type": "code",
   "execution_count": 25,
   "id": "b9b292bc",
   "metadata": {},
   "outputs": [
    {
     "name": "stdout",
     "output_type": "stream",
     "text": [
      "Masukkan nomor HP anda0123\n",
      "nol satu dua tiga \n"
     ]
    }
   ],
   "source": [
    "#latihan 13 Dictionaries\n",
    "\n",
    "nomor_HP = input('Masukkan nomor HP anda')\n",
    "nomor_angka = ''\n",
    "for isi in nomor_HP :\n",
    "    nomor_angka += angka.get(isi) + ' '\n",
    "print(nomor_angka)"
   ]
  },
  {
   "cell_type": "markdown",
   "id": "a8f708f1",
   "metadata": {},
   "source": [
    "# 5.19 Fungsi dalam Python"
   ]
  },
  {
   "cell_type": "code",
   "execution_count": null,
   "id": "90509c09",
   "metadata": {},
   "outputs": [],
   "source": [
    "#Fungsi pada python adalah kumpulan perintah atau baris kode yang dikelompokkan menjadi satu kesatuan untuk kemudian bisa dipanggil atau digunakan berkali-kali.\n",
    "#Sebuah fungsi bisa menerima parameter, bisa mengembalikan suatu nilai, dan bisa dipanggil berkali-kali secara independen.\n",
    "#Dengan fungsi kita bisa memecah program besar yang kita tulis, menjadi bagian-bagian kecil dengan tugasnya masing-masing."
   ]
  },
  {
   "cell_type": "code",
   "execution_count": 45,
   "id": "dd9650be",
   "metadata": {},
   "outputs": [],
   "source": [
    "#Latihan 1 Fungsi dalam Python\n",
    "#Parameter wajib diisi\n",
    "\n",
    "def full_name(first_name,last_name):\n",
    "#Kata kunci \"def\" yang menjadi pertanda bahwa blok kode program adalah sebuah fungsi\n",
    "    print(f\"Nama lengkapnya adalah {first_name} {last_name}\")\n",
    "    \n",
    "#Parameter di dalam python bisa lebih dari satu, bisa wajib semua (harus diisi), dan bisa juga bersifat opsional.\n",
    "#Namun, pada kasus ini parameter bersifat wajib semua, jika tidak diisi salah satu maka akan mendapatkan error"
   ]
  },
  {
   "cell_type": "code",
   "execution_count": 47,
   "id": "8ee74327",
   "metadata": {},
   "outputs": [
    {
     "name": "stdout",
     "output_type": "stream",
     "text": [
      "Nama depan anda adalah :Rika\n",
      "Nama belakang anda adalah :Bisathania\n",
      "Nama lengkapnya adalah Rika Bisathania\n"
     ]
    }
   ],
   "source": [
    "first_name = input('Nama depan anda adalah :')\n",
    "last_name = input ('Nama belakang anda adalah :')\n",
    "full_name(first_name, last_name)\n",
    "\n",
    "#Dengan program seperti ini, kita sudah memanfaatkan fungsi dan parameter pada python."
   ]
  },
  {
   "cell_type": "code",
   "execution_count": 50,
   "id": "15a871ba",
   "metadata": {},
   "outputs": [
    {
     "name": "stdout",
     "output_type": "stream",
     "text": [
      "Suhu di Bali adalah 30 celcius\n",
      "Suhu di Yogyakarta adalah 86 Fahrenheit\n"
     ]
    }
   ],
   "source": [
    "#Latihan 2 Fungsi dalam Python\n",
    "#Parameter tidak wajib diisi\n",
    "\n",
    "def suhu_udara (daerah, derajat, satuan = 'celcius'):\n",
    "  print(f\"Suhu di {daerah} adalah {derajat} {satuan}\")\n",
    "#Pada definisi ini, kita mendefinisikan 3 buah parameter, yaitu :\n",
    "#'daerah'\n",
    "#'derajat'\n",
    "# suhu = 'celcius'\n",
    "#Dua parameter pertama adalah bersifat wajib dan harus diisi, sedangkan parameter ketiga tidak wajib. Jika tidak kita isi, maka nilai default-nya adalah “celcius”.\n",
    "\n",
    "suhu_udara(\"Bali\", 30)\n",
    "suhu_udara(\"Yogyakarta\", 86, 'Fahrenheit')"
   ]
  },
  {
   "cell_type": "markdown",
   "id": "955d1b4a",
   "metadata": {},
   "source": [
    "# 5.19.1Tugas Fungsi pada Python "
   ]
  },
  {
   "cell_type": "code",
   "execution_count": 51,
   "id": "4eb177f2",
   "metadata": {},
   "outputs": [],
   "source": [
    "# dua jenis tugas fungsi pada python yaitu menjalankan perintah dan menampilkan hasil perhitungan "
   ]
  },
  {
   "cell_type": "code",
   "execution_count": 52,
   "id": "be88ebea",
   "metadata": {},
   "outputs": [],
   "source": [
    "#Latihan 1 Tugas Fungsi pada Python\n",
    "\n",
    "def waktu_sampai(jarak,kecepatan):\n",
    "#Gunakan def sebagai kode bahwa program ini sebuah fungsi \n",
    "#Waktu dapat dihitung dengan komponen jarak dan kecepatan \n",
    "    waktu = jarak/kecepatan\n",
    "    #waktu dapat dihitung dengan jarak dibagi dengan kecepatan\n",
    "    print(waktu)"
   ]
  },
  {
   "cell_type": "code",
   "execution_count": 53,
   "id": "8172527c",
   "metadata": {},
   "outputs": [],
   "source": [
    "def waktu_tempuh(jarak,kecepatan):\n",
    "    waktu = jarak/kecepatan\n",
    "    return waktu\n",
    "    #disini kita menggunakan return karena ingin mengembalikan nilai yang tersimpan dalam sebuah variabel kepada kode yang akan memanggil function tersebut.\n",
    "    #Keyword return berfungsi untuk mengembalikan suatu data, sedangkan fungsi print untuk mencetak teks di terminal."
   ]
  },
  {
   "cell_type": "code",
   "execution_count": 54,
   "id": "5ca0589c",
   "metadata": {},
   "outputs": [
    {
     "name": "stdout",
     "output_type": "stream",
     "text": [
      "1.3333333333333333\n"
     ]
    }
   ],
   "source": [
    "waktu_sampai(80,60)\n",
    "#Untuk menghitung waktu_sampai, kita tinggal memasukkan angka yang kita inginkan pada tanda kurung\n",
    "#(80,60) artinya : 80 untuk jarak dan 60 untuk kecepatan \n",
    "#Kemudian komputer akan memproses pembagian dari 2 data tersebut dan mendapatkan hasil 1.3333333333333333"
   ]
  },
  {
   "cell_type": "code",
   "execution_count": 55,
   "id": "caf1a7db",
   "metadata": {},
   "outputs": [
    {
     "data": {
      "text/plain": [
       "1.3333333333333333"
      ]
     },
     "execution_count": 55,
     "metadata": {},
     "output_type": "execute_result"
    }
   ],
   "source": [
    "waktu_tempuh(80,60)\n",
    "\n",
    "#sama seperti rumus untuk menghitung waktu_sampai\n",
    "#(80,60) artinya : 80 untuk jarak dan 60 untuk kecepatan"
   ]
  },
  {
   "cell_type": "code",
   "execution_count": 56,
   "id": "51313103",
   "metadata": {},
   "outputs": [
    {
     "name": "stdout",
     "output_type": "stream",
     "text": [
      "1.3333333333333333\n",
      "None\n"
     ]
    }
   ],
   "source": [
    "a = waktu_sampai(80,60)\n",
    "#Kita definisikan a sebagai waktu sampai dengan jaraknya adalah 80 dan 60 sebagai kecepatannya\n",
    "#Boleh didefinisikan dengan nama selain a\n",
    "print(a)\n",
    "#Setelah hasilnya diproses, tentunya kita harus menggunakan perintah print untuk mencetak hasil dari waktu_sampai"
   ]
  },
  {
   "cell_type": "code",
   "execution_count": 57,
   "id": "21278283",
   "metadata": {},
   "outputs": [
    {
     "name": "stdout",
     "output_type": "stream",
     "text": [
      "1.3333333333333333\n"
     ]
    }
   ],
   "source": [
    "b = waktu_tempuh(80,60)\n",
    "#Kita mendefinisikan a sebagai waktu sampai dengan jaraknya adalah 80 dan kecepatannya adalah 60\n",
    "#Boleh didefinisikan dengan nama selain b\n",
    "print(b)\n",
    "#Gunakan perintah print untuk mencetak hasilnya"
   ]
  },
  {
   "cell_type": "code",
   "execution_count": 4,
   "id": "485c6f3e",
   "metadata": {},
   "outputs": [],
   "source": [
    "#Latihan 2 Tugas Fungsi pada Python\n",
    "\n",
    "import numpy as np\n",
    "#Gunakan numpy pada saat menghitung luas_lingkaran\n",
    "#Numpy menyediakan fungsi yang siap pakai untuk memudahkan dalam melakukan perhitungan saintifik seperti matriks, aljabar, statistik, dan sebagainya.\n",
    "\n",
    "def luas_segitiga(alas,tinggi):\n",
    "#Komponen dari luas_segitiga adalah alas dan tinggi, masukkan komponen tersebut\n",
    "    luas = (1/2)*alas*tinggi\n",
    "    #Masukkan rumus dari luas segitiga\n",
    "    return luas\n",
    "    #Gunakan retun untuk mengembalikan nilai yang tersimpan dalam sebuah variabel kepada kode yang akan memanggil function tersebut\n",
    "def luas_lingkaran(jari_jari):\n",
    "    luas = np.pi*(jari_jari**2)\n",
    "    #Karena kita sudah mendefinisikan numpy menjadi np, maka cukup menuliskan np saja\n",
    "    #Jika Anda sudah menggunakan numpy, lebih baik menggunakan konstanta numpy saja yaitu (pi)\n",
    "    return luas\n",
    "def luas_persegi(sisi):\n",
    "#Komponen dari luas persegi hanyalah sisi\n",
    "    luas = sisi**2\n",
    "    #Masukkan rumus untuk menghitung luas_persegi yaitu sisixsisi atau dituliskan sisi**2(sisi pangkat 2)\n",
    "    return luas\n",
    "def luas_persegi_panjang(panjang,lebar):\n",
    "#Masukkan komponen dari luas_persegi_panjang yaitu panjang dan lebar\n",
    "    luas = panjang*lebar\n",
    "    #Masukkan rumus dari luas persegi panjang yaitu panjang x lebar\n",
    "    return luas"
   ]
  },
  {
   "cell_type": "code",
   "execution_count": 2,
   "id": "a97b60de",
   "metadata": {},
   "outputs": [
    {
     "data": {
      "text/plain": [
       "225.0"
      ]
     },
     "execution_count": 2,
     "metadata": {},
     "output_type": "execute_result"
    }
   ],
   "source": [
    "luas_segitiga(30,15)\n",
    "#Untuk menghitung luas segitiga, tuliskan luas_segitiga sesuai dengan definisi \n",
    "#(30,15) artinya : 30 untuk alas, dana 15 untuk tinggi\n",
    "#Kemudian angka tersebut diproses sesuai dengan definisi luas_segitiga yang telah kita tuliskan"
   ]
  },
  {
   "cell_type": "code",
   "execution_count": 5,
   "id": "e281a48f",
   "metadata": {},
   "outputs": [
    {
     "data": {
      "text/plain": [
       "78.53981633974483"
      ]
     },
     "execution_count": 5,
     "metadata": {},
     "output_type": "execute_result"
    }
   ],
   "source": [
    "luas_lingkaran(5)\n",
    "#Kita hanya memasukkan 1 komponen saja yaitu jari\" saja\n",
    "#5 adalah untuk jari_jari"
   ]
  },
  {
   "cell_type": "code",
   "execution_count": 6,
   "id": "8df73077",
   "metadata": {},
   "outputs": [
    {
     "data": {
      "text/plain": [
       "100"
      ]
     },
     "execution_count": 6,
     "metadata": {},
     "output_type": "execute_result"
    }
   ],
   "source": [
    "luas_persegi(10)\n",
    "#Sama seperti luas_segitiga kita hanya memerlukan 1 komponen saja yaitu sisi"
   ]
  },
  {
   "cell_type": "code",
   "execution_count": 7,
   "id": "5d2c3d59",
   "metadata": {},
   "outputs": [
    {
     "data": {
      "text/plain": [
       "21"
      ]
     },
     "execution_count": 7,
     "metadata": {},
     "output_type": "execute_result"
    }
   ],
   "source": [
    "luas_persegi_panjang(3,7)\n",
    "#(7,3) artinya : 7 untuk panjang dan 3 untuk lebar\n",
    "#Hasilnya adalah 21 karena kita mendefinisikan luasnya adalah panjang*lebar"
   ]
  },
  {
   "cell_type": "code",
   "execution_count": 3,
   "id": "dfe38e6e",
   "metadata": {},
   "outputs": [
    {
     "name": "stdout",
     "output_type": "stream",
     "text": [
      "Tulis jenis bidangnyabalok\n",
      "Maaf bidang balok yang anda masukkan tidak ada.\n",
      "Pilihan cuma SEGITIGA, LINGKARAN, PERSEGI, dan PERSEGI PANJANG.\n",
      "Terimakasih\n"
     ]
    }
   ],
   "source": [
    "#Latihan 3 Tugas Fungsi pada Python\n",
    "\n",
    "import numpy as np\n",
    "#Gunakan numpy pada saat menghitung luas_lingkaran\n",
    "#Numpy menyediakan fungsi yang siap pakai untuk memudahkan dalam melakukan perhitungan saintifik seperti matriks, aljabar, statistik, dan sebagainya.\n",
    "def luas_segitiga(alas,tinggi):\n",
    "#Komponen dari luas_segitiga adalah alas dan tinggi, masukkan komponen tersebut\n",
    "    luas = (1/2)*alas*tinggi\n",
    "    #Masukkan rumus dari luas segitiga\n",
    "    return luas\n",
    "    #Gunakan retun untuk mengembalikan nilai yang tersimpan dalam sebuah variabel kepada kode yang akan memanggil function tersebut\n",
    "def luas_lingkaran(jari_jari):\n",
    "    luas = np.pi*(jari_jari**2)\n",
    "    #Karena kita sudah mendefinisikan numpy menjadi np, maka cukup menuliskan np saja\n",
    "    #Jika Anda sudah menggunakan numpy, lebih baik menggunakan konstanta numpy saja yaitu (pi)\n",
    "    return luas\n",
    "def luas_persegi(sisi):\n",
    "#Komponen dari luas persegi hanyalah sisi\n",
    "    luas = sisi**2\n",
    "    #Masukkan rumus untuk menghitung luas_persegi yaitu sisixsisi atau dituliskan sisi**2(sisi pangkat 2)\n",
    "    return luas\n",
    "def luas_persegi_panjang(panjang,lebar):\n",
    "#Masukkan komponen dari luas_persegi_panjang yaitu panjang dan lebar\n",
    "    luas = panjang*lebar\n",
    "    #Masukkan rumus dari luas persegi panjang yaitu panjang x lebar\n",
    "    return luas\n",
    "\n",
    "#Mengitung bidang menggunakan metode input\n",
    "jenis_bidang = input('Tulis jenis bidangnya :')\n",
    "#Program ini untuk mengimput jenis bidang yang akan diproses\n",
    "if jenis_bidang.upper() == 'SEGITIGA':\n",
    "#Program ini untuk merubah huruf yang diimput jika hurufnya huruf kecil menjadi huruf besar\n",
    "    alas = float(input('Berapakah panjang alasnya ?'))\n",
    "    #Gunakan float karena data yang diimput tidak selalu bilangan bulat, bisa saja desimal atau pecahan\n",
    "    tinggi = float(input('Berapakah tingginya ?'))\n",
    "    luas = luas_segitiga(alas,tinggi)\n",
    "    #Kemudian kita masukkan elemen dari luas segitiga yaitu alas dan tinggi\n",
    "    print(f\"luas {jenis_bidang} adalah {luas}\")\n",
    "    #Pada bagian ini, pastikan untuk menggunakan kurung kurawa {}\n",
    "elif jenis_bidang.upper() == 'LINGKARAN':\n",
    "#Pengambilan keputusan (kondisi if elif) merupakan lanjutan/percabangan logika dari kondisi if\n",
    "#Dengan elif kita bisa membuat kode program yang akan menyeleksi beberapa kemungkinan yang bisa terjadi.\n",
    "#Hampir sama dengan kondisi “else”, bedanya kondisi “elif” bisa banyak dan tidak hanya satu.\n",
    "    jari_jari = float(input('Berapakah panjang jari-jarinya ?'))\n",
    "    luas = luas_lingkaran(jari_jari)\n",
    "    print(f\"luas {jenis_bidang} adalah {luas}\")\n",
    "elif jenis_bidang.upper() == 'PERSEGI':\n",
    "    sisi = float(input('Berapakah panjang sisinya?'))\n",
    "    luas = luas_persegi(sisi)\n",
    "    print(f\"luas {jenis_bidang} adalah {luas}\")\n",
    "elif jenis_bidang.upper() == 'PERSEGI PANJANG' :\n",
    "    panjang = float(input('Berapakah panjangnya?'))\n",
    "    lebar = float(input('Berapakah lebarnya?'))\n",
    "    print(f\"luas{jenis_bidang} adalah {luas}\")\n",
    "else:\n",
    "#kondisi terakhir dimana semua kondisi sebelumnya tidak ada yang terpenuhi.\n",
    "    print(f\"Maaf bidang {jenis_bidang} yang anda masukkan tidak ada.\")\n",
    "    print(\"Pilihan cuma SEGITIGA, LINGKARAN, PERSEGI, dan PERSEGI PANJANG.\")\n",
    "    print('Terimakasih')  \n",
    "    #Apabila perintah tidak ada yang terpenuhi, maka akan keluar 3 kalimat ini"
   ]
  },
  {
   "cell_type": "markdown",
   "id": "44d11efe",
   "metadata": {},
   "source": [
    "# 5.20 Numpy"
   ]
  },
  {
   "cell_type": "markdown",
   "id": "0daa5918",
   "metadata": {},
   "source": [
    "## 5.20.1 Perintah Dasar pada Numpy"
   ]
  },
  {
   "cell_type": "code",
   "execution_count": 9,
   "id": "f358b85c",
   "metadata": {},
   "outputs": [
    {
     "name": "stdout",
     "output_type": "stream",
     "text": [
      "[1 2 3 4]\n"
     ]
    }
   ],
   "source": [
    "import numpy as np\n",
    "#Pastikan untuk menuliskan perintah ini untuk memanggil library numpy\n",
    "d = np.array([1,2,3,4])\n",
    "print(d)\n",
    "#Hasilnya sama seperti membuat list"
   ]
  },
  {
   "cell_type": "code",
   "execution_count": 10,
   "id": "e502e04c",
   "metadata": {},
   "outputs": [
    {
     "name": "stdout",
     "output_type": "stream",
     "text": [
      "[[5 6 7 8]\n",
      " [9 8 7 6]\n",
      " [7 8 9 6]]\n"
     ]
    }
   ],
   "source": [
    "import numpy as np\n",
    "c = np.array([[5,6,7,8],[9,8,7,6],[7,8,9,6]])\n",
    "print(c)\n",
    "#Apabila kita membuat 2 atau lebih array, maka akan dicetak secara vertikal"
   ]
  },
  {
   "cell_type": "code",
   "execution_count": 11,
   "id": "32a2b879",
   "metadata": {},
   "outputs": [
    {
     "data": {
      "text/plain": [
       "1"
      ]
     },
     "execution_count": 11,
     "metadata": {},
     "output_type": "execute_result"
    }
   ],
   "source": [
    "d.ndim\n",
    "#Fungsi ndim adalah untuk mengetahui jumlah dimensi array NumPy"
   ]
  },
  {
   "cell_type": "code",
   "execution_count": 12,
   "id": "9903f020",
   "metadata": {},
   "outputs": [
    {
     "data": {
      "text/plain": [
       "2"
      ]
     },
     "execution_count": 12,
     "metadata": {},
     "output_type": "execute_result"
    }
   ],
   "source": [
    "c.ndim\n",
    "#Dimensi pada c adalah 2"
   ]
  },
  {
   "cell_type": "code",
   "execution_count": 13,
   "id": "0c3ee90c",
   "metadata": {},
   "outputs": [
    {
     "data": {
      "text/plain": [
       "(4,)"
      ]
     },
     "execution_count": 13,
     "metadata": {},
     "output_type": "execute_result"
    }
   ],
   "source": [
    "d.shape\n",
    "#Pada fungsi shape menghasilkan sebuah tuple yang berisikan panjang sebuah array pada tiap dimensi.\n",
    "#Array d memiliki shape 4, yaitu panjang array pada 1-dimensi array."
   ]
  },
  {
   "cell_type": "code",
   "execution_count": 14,
   "id": "95a7e257",
   "metadata": {},
   "outputs": [
    {
     "data": {
      "text/plain": [
       "(3, 4)"
      ]
     },
     "execution_count": 14,
     "metadata": {},
     "output_type": "execute_result"
    }
   ],
   "source": [
    "c.shape\n",
    "#Array c memiliki shape 3, yaitu panjang array pada 2-dimensi array."
   ]
  },
  {
   "cell_type": "markdown",
   "id": "d2d782c6",
   "metadata": {},
   "source": [
    "## 5.20.2 Memanggil Anggota, Kolom dan Baris dengan Numpy"
   ]
  },
  {
   "cell_type": "code",
   "execution_count": 15,
   "id": "c8e49b78",
   "metadata": {},
   "outputs": [
    {
     "name": "stdout",
     "output_type": "stream",
     "text": [
      "[[ 1  2  3  4]\n",
      " [ 5  6  7  8]\n",
      " [ 9 10 11 12]]\n"
     ]
    }
   ],
   "source": [
    "d = np.array([[1,2,3,4],[5,6,7,8],[9,10,11,12]])\n",
    "print(d)"
   ]
  },
  {
   "cell_type": "code",
   "execution_count": 17,
   "id": "5f092d3b",
   "metadata": {},
   "outputs": [
    {
     "data": {
      "text/plain": [
       "8"
      ]
     },
     "execution_count": 17,
     "metadata": {},
     "output_type": "execute_result"
    }
   ],
   "source": [
    "d[1,3]\n",
    "#[1,3], 1 melambangkan indeks ke 2 dari 3 indeks yang tersedia, indeks pertama dihitung 0\n",
    "#3 melambangkan elemen ke 4 dari indeks ke 2, karena dimulai dari 0 \n",
    "#[1,2,3,4] = merupakan indeks ke 0\n",
    "#[5,6,7,8] = merupakan indeks ke 1\n",
    "    #5 = elemen ke 0\n",
    "    #6 = elemen ke 1\n",
    "    #7 = elemen ke 2\n",
    "    #8 = elemen ke 3\n",
    "#[9,10,11,12] = merupakan indeks ke 2"
   ]
  },
  {
   "cell_type": "code",
   "execution_count": 19,
   "id": "ed4786eb",
   "metadata": {},
   "outputs": [
    {
     "data": {
      "text/plain": [
       "array([5, 6, 7, 8])"
      ]
     },
     "execution_count": 19,
     "metadata": {},
     "output_type": "execute_result"
    }
   ],
   "source": [
    "d[1,:]\n",
    "#Kode ini memuat perintah untuk mencetak indeks ke 1\n",
    "#[1,2,3,4] = merupakan indeks ke 0\n",
    "#[5,6,7,8] = merupakan indeks ke 1\n",
    "#[9,10,11,12] = merupakan indeks ke 2\n",
    "#Karena tidak dituliskan elemen ke berapa dari indeks yang ingin dicetak, maka semua elemen dicetak"
   ]
  },
  {
   "cell_type": "code",
   "execution_count": 20,
   "id": "c56e0d0c",
   "metadata": {},
   "outputs": [
    {
     "data": {
      "text/plain": [
       "array([ 3,  7, 11])"
      ]
     },
     "execution_count": 20,
     "metadata": {},
     "output_type": "execute_result"
    }
   ],
   "source": [
    "d[:,2]\n",
    "#Kode ini memuat perintah untuk mencetak elemen ke 2 pada semua indeks"
   ]
  },
  {
   "cell_type": "code",
   "execution_count": 21,
   "id": "f25d57a9",
   "metadata": {},
   "outputs": [
    {
     "data": {
      "text/plain": [
       "array([2, 3])"
      ]
     },
     "execution_count": 21,
     "metadata": {},
     "output_type": "execute_result"
    }
   ],
   "source": [
    "d[0,1:3]\n",
    "#Kode ini untuk mencetak indeks ke 0\n",
    "#[1,3] artinya yaitu cetak elemen ke 1 sampai 2"
   ]
  },
  {
   "cell_type": "code",
   "execution_count": 22,
   "id": "bac25b78",
   "metadata": {},
   "outputs": [
    {
     "data": {
      "text/plain": [
       "array([1, 3])"
      ]
     },
     "execution_count": 22,
     "metadata": {},
     "output_type": "execute_result"
    }
   ],
   "source": [
    "d[0,0:3:2]\n",
    "\n",
    "#Program ini untuk mencetak indeks ke 0\n",
    "#Elemen dari indeks ke 0 ini dicetak dari elemen ke 0 sampai sebelum elemen ke 3 (1,2,3,4)\n",
    "#Dengan loncatan sebanyak 2 kali"
   ]
  },
  {
   "cell_type": "code",
   "execution_count": 23,
   "id": "799810f1",
   "metadata": {},
   "outputs": [
    {
     "name": "stdout",
     "output_type": "stream",
     "text": [
      "[[100   2   3   4]\n",
      " [  5   6   7   8]\n",
      " [  9  10  11  12]]\n"
     ]
    }
   ],
   "source": [
    "d[0,0] = 100\n",
    "print(d)\n",
    "\n",
    "#Program ini adalah untuk mengganti indeks ke 0 dan elemen ke 0 dengan angka 100"
   ]
  },
  {
   "cell_type": "markdown",
   "id": "96c0fdef",
   "metadata": {},
   "source": [
    "## 5.20.3 Matrix pada Numpy"
   ]
  },
  {
   "cell_type": "code",
   "execution_count": 24,
   "id": "48fffcda",
   "metadata": {},
   "outputs": [
    {
     "data": {
      "text/plain": [
       "array([[1., 1., 1.],\n",
       "       [1., 1., 1.]])"
      ]
     },
     "execution_count": 24,
     "metadata": {},
     "output_type": "execute_result"
    }
   ],
   "source": [
    "np.ones((2,3))\n",
    "#Mencetak matrix 2x3 dengan elemennya adalah 1"
   ]
  },
  {
   "cell_type": "code",
   "execution_count": 26,
   "id": "aec20dd7",
   "metadata": {},
   "outputs": [
    {
     "data": {
      "text/plain": [
       "array([[0., 0., 0.],\n",
       "       [0., 0., 0.]])"
      ]
     },
     "execution_count": 26,
     "metadata": {},
     "output_type": "execute_result"
    }
   ],
   "source": [
    "np.zeros((2,3))\n",
    "#Mencetak matrix 2x3 dengan elemennya adalah 0"
   ]
  },
  {
   "cell_type": "code",
   "execution_count": 29,
   "id": "e585f70b",
   "metadata": {},
   "outputs": [
    {
     "data": {
      "text/plain": [
       "array([[1., 0., 0., 0., 0.],\n",
       "       [0., 1., 0., 0., 0.],\n",
       "       [0., 0., 1., 0., 0.],\n",
       "       [0., 0., 0., 1., 0.],\n",
       "       [0., 0., 0., 0., 1.]])"
      ]
     },
     "execution_count": 29,
     "metadata": {},
     "output_type": "execute_result"
    }
   ],
   "source": [
    "np.identity(5)\n",
    "#Mencetak matrix identitas dengan ukuran 5x5"
   ]
  },
  {
   "cell_type": "code",
   "execution_count": 31,
   "id": "65bf8991",
   "metadata": {},
   "outputs": [
    {
     "data": {
      "text/plain": [
       "array([[[1., 1., 1., 1.],\n",
       "        [1., 1., 1., 1.],\n",
       "        [1., 1., 1., 1.]],\n",
       "\n",
       "       [[1., 1., 1., 1.],\n",
       "        [1., 1., 1., 1.],\n",
       "        [1., 1., 1., 1.]],\n",
       "\n",
       "       [[1., 1., 1., 1.],\n",
       "        [1., 1., 1., 1.],\n",
       "        [1., 1., 1., 1.]],\n",
       "\n",
       "       [[1., 1., 1., 1.],\n",
       "        [1., 1., 1., 1.],\n",
       "        [1., 1., 1., 1.]],\n",
       "\n",
       "       [[1., 1., 1., 1.],\n",
       "        [1., 1., 1., 1.],\n",
       "        [1., 1., 1., 1.]]])"
      ]
     },
     "execution_count": 31,
     "metadata": {},
     "output_type": "execute_result"
    }
   ],
   "source": [
    "np.ones((5,3,4))\n",
    "#Mencetak 5 buah matrix ukuran 3x4 dengan 1 sebagai semua elemennya"
   ]
  },
  {
   "cell_type": "code",
   "execution_count": 32,
   "id": "b2fe775c",
   "metadata": {},
   "outputs": [
    {
     "data": {
      "text/plain": [
       "array([[9, 9],\n",
       "       [9, 9],\n",
       "       [9, 9]])"
      ]
     },
     "execution_count": 32,
     "metadata": {},
     "output_type": "execute_result"
    }
   ],
   "source": [
    "np.full((3,2),9)\n",
    "#Untuk mencetak matrix berukuran 3x2 dengan 9 sebagai semua elemennya"
   ]
  },
  {
   "cell_type": "code",
   "execution_count": 33,
   "id": "b5f96b83",
   "metadata": {},
   "outputs": [
    {
     "data": {
      "text/plain": [
       "array([[0.84347728, 0.56740035, 0.97052733],\n",
       "       [0.8921451 , 0.06343574, 0.1715109 ],\n",
       "       [0.16878125, 0.04845983, 0.43778399],\n",
       "       [0.94088576, 0.57848325, 0.05909996]])"
      ]
     },
     "execution_count": 33,
     "metadata": {},
     "output_type": "execute_result"
    }
   ],
   "source": [
    "np.random.rand(4,3)\n",
    "#Untuk mencetak matrix berukuran 4x3 \n",
    "#Metode rand() pada modul random mengembalikan float acak antara 0 dan 1."
   ]
  },
  {
   "cell_type": "code",
   "execution_count": 39,
   "id": "633fcfeb",
   "metadata": {},
   "outputs": [
    {
     "data": {
      "text/plain": [
       "array([[8, 4, 3, 9],\n",
       "       [3, 1, 4, 3],\n",
       "       [2, 1, 9, 1]])"
      ]
     },
     "execution_count": 39,
     "metadata": {},
     "output_type": "execute_result"
    }
   ],
   "source": [
    "np.random.randint(1,10,size=(3,4))\n",
    "#Mencetak matrix ukuran 3x4 dengan elemen-elemennya terdiri dari bilangan 1 sampai 10"
   ]
  },
  {
   "cell_type": "markdown",
   "id": "7bda66eb",
   "metadata": {},
   "source": [
    "## 5.20.4 Copy pada Numpy "
   ]
  },
  {
   "cell_type": "code",
   "execution_count": 42,
   "id": "0ef8976c",
   "metadata": {},
   "outputs": [
    {
     "name": "stdout",
     "output_type": "stream",
     "text": [
      "[1 2 3 4 5]\n"
     ]
    }
   ],
   "source": [
    "#Latihan 1 Copy pada Numpy\n",
    "\n",
    "a= np.array([1,2,3,4,5])\n",
    "print(a)\n",
    "\n",
    "#Program ini adalah untuk mencetak anggota dari array a yaitu 1,2,3,4,5"
   ]
  },
  {
   "cell_type": "code",
   "execution_count": 43,
   "id": "789d0137",
   "metadata": {},
   "outputs": [
    {
     "name": "stdout",
     "output_type": "stream",
     "text": [
      "[1 2 3 4 5]\n"
     ]
    }
   ],
   "source": [
    "b = a\n",
    "print(b)\n",
    "\n",
    "#Program ini adalah untuk membuat elemen dari array b adalah sama persis dengan array a"
   ]
  },
  {
   "cell_type": "code",
   "execution_count": 45,
   "id": "5767e926",
   "metadata": {},
   "outputs": [
    {
     "name": "stdout",
     "output_type": "stream",
     "text": [
      "[10  2  3  4  5]\n"
     ]
    }
   ],
   "source": [
    "b[0] = 10\n",
    "print(b)\n",
    "#Program ini adalah untuk mengganti elemen ke 0 yang tadinya adalah angka 1 menjadi angka 10"
   ]
  },
  {
   "cell_type": "code",
   "execution_count": 46,
   "id": "584a584d",
   "metadata": {},
   "outputs": [
    {
     "name": "stdout",
     "output_type": "stream",
     "text": [
      "[10  2  3  4  5]\n"
     ]
    }
   ],
   "source": [
    "print(a)\n",
    "#Karena tadi kita sudah mengganti elemen ke 0 dengan 10, jadi elemen dari array a menjadi 10,2,3,4,5"
   ]
  },
  {
   "cell_type": "code",
   "execution_count": 47,
   "id": "813d4aa4",
   "metadata": {},
   "outputs": [],
   "source": [
    "#Latihan 2 Copy pada Numpy\n",
    "\n",
    "c = np.array([1,2,3,4,5])\n",
    "#Kita definisikan array c dengan elemennya adalah 1,2,3,4,5"
   ]
  },
  {
   "cell_type": "code",
   "execution_count": 49,
   "id": "9cff8138",
   "metadata": {},
   "outputs": [
    {
     "name": "stdout",
     "output_type": "stream",
     "text": [
      "[1 2 3 4 5]\n"
     ]
    }
   ],
   "source": [
    "d = c.copy()\n",
    "print(d)\n",
    "\n",
    "#Terdapat cara lain untuk mengcopy sebuah array supaya identik dengan array yang baru\n",
    "#Contohnya adalah cara ini"
   ]
  },
  {
   "cell_type": "code",
   "execution_count": 52,
   "id": "e6149f14",
   "metadata": {},
   "outputs": [
    {
     "name": "stdout",
     "output_type": "stream",
     "text": [
      "[1002    2    3    4    5]\n"
     ]
    }
   ],
   "source": [
    "d[0] = 1002\n",
    "print(d)\n",
    "\n",
    "#Karena kita mengganti elemen ke 0 pada array d, alhasil elemen dari array d menjadi 1002,2,3,4,5"
   ]
  },
  {
   "cell_type": "code",
   "execution_count": 55,
   "id": "0f9079fa",
   "metadata": {},
   "outputs": [
    {
     "name": "stdout",
     "output_type": "stream",
     "text": [
      "[1 2 3 4 5]\n"
     ]
    }
   ],
   "source": [
    "print(c)\n",
    "\n",
    "#Karena kita tidak pernah merubah elemen dari array c, maka elemen-elemen dari array c tetap sama yaitu 1,2,3,4"
   ]
  },
  {
   "cell_type": "markdown",
   "id": "a7786117",
   "metadata": {},
   "source": [
    "## 5.20.5 Operasi Matematika pada Numpy"
   ]
  },
  {
   "cell_type": "code",
   "execution_count": 59,
   "id": "233b8bc1",
   "metadata": {},
   "outputs": [],
   "source": [
    "a = np.array([5,6,7,8,9])\n",
    "\n",
    "#Kita definisikan array a dengan elemennya yaitu 5,6,7,8,9"
   ]
  },
  {
   "cell_type": "code",
   "execution_count": 61,
   "id": "985ce857",
   "metadata": {},
   "outputs": [
    {
     "data": {
      "text/plain": [
       "array([ 7,  8,  9, 10, 11])"
      ]
     },
     "execution_count": 61,
     "metadata": {},
     "output_type": "execute_result"
    }
   ],
   "source": [
    "a+2\n",
    "\n",
    "#Program ini memerintahkan setiap elemen dari array a dijumlahkan 2, sehingga\n",
    "#5+2 = 7\n",
    "#6+2 = 8\n",
    "#7+2 = 9\n",
    "#8+2 = 10\n",
    "#9+2 = 11"
   ]
  },
  {
   "cell_type": "code",
   "execution_count": 63,
   "id": "b4cb7af2",
   "metadata": {},
   "outputs": [
    {
     "data": {
      "text/plain": [
       "array([-5, -4, -3, -2, -1])"
      ]
     },
     "execution_count": 63,
     "metadata": {},
     "output_type": "execute_result"
    }
   ],
   "source": [
    "a-10\n",
    "#Program ini memerintahkan bahwa setiap elemen dari a harus dikurangi dengan 10"
   ]
  },
  {
   "cell_type": "code",
   "execution_count": 64,
   "id": "00439d9b",
   "metadata": {},
   "outputs": [
    {
     "data": {
      "text/plain": [
       "array([20, 24, 28, 32, 36])"
      ]
     },
     "execution_count": 64,
     "metadata": {},
     "output_type": "execute_result"
    }
   ],
   "source": [
    "a*4\n",
    "#Program ini memerintahkan bahwa setiap elemen dari a harus dikalikan dengan 4"
   ]
  },
  {
   "cell_type": "code",
   "execution_count": 66,
   "id": "afe65b16",
   "metadata": {},
   "outputs": [
    {
     "data": {
      "text/plain": [
       "array([1. , 1.2, 1.4, 1.6, 1.8])"
      ]
     },
     "execution_count": 66,
     "metadata": {},
     "output_type": "execute_result"
    }
   ],
   "source": [
    "a/5\n",
    "#Program ini untuk memuat perintah bahwa setiap elemen dari array a harus dibagi dengan 5"
   ]
  },
  {
   "cell_type": "code",
   "execution_count": 67,
   "id": "04e74560",
   "metadata": {},
   "outputs": [
    {
     "data": {
      "text/plain": [
       "array([125, 216, 343, 512, 729], dtype=int32)"
      ]
     },
     "execution_count": 67,
     "metadata": {},
     "output_type": "execute_result"
    }
   ],
   "source": [
    "a**3\n",
    "#Program ini adalah untuk memuat perintah bahwa setiap elemen dari array a harus dipangkatkan 3"
   ]
  },
  {
   "cell_type": "code",
   "execution_count": 70,
   "id": "73ac1cba",
   "metadata": {},
   "outputs": [],
   "source": [
    "b = np.array([6,7,8,9,10,11,12,13])\n",
    "#Kita mempunyai array baru yaitu array b dengan elemennya adalah 6,7,8,9,10\n",
    "#Baik nama array ataupun elemen array adalah bebas "
   ]
  },
  {
   "cell_type": "code",
   "execution_count": 69,
   "id": "5ca8f86c",
   "metadata": {},
   "outputs": [
    {
     "data": {
      "text/plain": [
       "array([11, 13, 15, 17, 19])"
      ]
     },
     "execution_count": 69,
     "metadata": {},
     "output_type": "execute_result"
    }
   ],
   "source": [
    "a+b\n",
    "#Program ini adalah untuk menjumlahkan 2 buah elemen pada array yang berbeda\n",
    "#Apabila jumlah elemen pada kedua array berbeda, maka hanya akan diproses yang mempunyai pasangan saja\n",
    "#(5+6 , 6+7 , 7+8 , 8+9 , 9+10) sebenarnya masih ada sisa elemen pada array b, namun hanya diproses sejumlah array a"
   ]
  },
  {
   "cell_type": "code",
   "execution_count": 71,
   "id": "12087b39",
   "metadata": {},
   "outputs": [
    {
     "ename": "ValueError",
     "evalue": "operands could not be broadcast together with shapes (5,) (8,) ",
     "output_type": "error",
     "traceback": [
      "\u001b[1;31m---------------------------------------------------------------------------\u001b[0m",
      "\u001b[1;31mValueError\u001b[0m                                Traceback (most recent call last)",
      "\u001b[1;32m~\\AppData\\Local\\Temp\\ipykernel_18980\\3931802818.py\u001b[0m in \u001b[0;36m<module>\u001b[1;34m\u001b[0m\n\u001b[1;32m----> 1\u001b[1;33m \u001b[0ma\u001b[0m\u001b[1;33m-\u001b[0m\u001b[0mb\u001b[0m\u001b[1;33m\u001b[0m\u001b[1;33m\u001b[0m\u001b[0m\n\u001b[0m",
      "\u001b[1;31mValueError\u001b[0m: operands could not be broadcast together with shapes (5,) (8,) "
     ]
    }
   ],
   "source": [
    "a-b\n",
    "#Namun pada operasi pengurangan, elemen array yang berbeda jumlah tidak dapat diproses"
   ]
  },
  {
   "cell_type": "code",
   "execution_count": 78,
   "id": "dadeb833",
   "metadata": {},
   "outputs": [
    {
     "data": {
      "text/plain": [
       "array([0.83333333, 0.85714286, 0.875     , 0.88888889, 0.9       ])"
      ]
     },
     "execution_count": 78,
     "metadata": {},
     "output_type": "execute_result"
    }
   ],
   "source": [
    "a/b\n",
    "#Operasi pembagian masih bisa dijalankan walaupun jumlah elemen array berbeda "
   ]
  },
  {
   "cell_type": "code",
   "execution_count": 79,
   "id": "54e7d1e1",
   "metadata": {},
   "outputs": [
    {
     "data": {
      "text/plain": [
       "array([      7776,     117649,    2097152,   43046721, 1000000000],\n",
       "      dtype=int32)"
      ]
     },
     "execution_count": 79,
     "metadata": {},
     "output_type": "execute_result"
    }
   ],
   "source": [
    "b**a\n",
    "#Operasi pangkat dapat diproses walaupun jumlah elemen array berbeda"
   ]
  },
  {
   "cell_type": "code",
   "execution_count": 74,
   "id": "52c983db",
   "metadata": {},
   "outputs": [],
   "source": [
    "a = np.array([5,6,7,8,9])\n",
    "b = np.array([6,7,8,9,10])\n",
    "#Untuk memproses operasi pengurangan, kita akan membuat array yang baru dengan jumlah elemen sama "
   ]
  },
  {
   "cell_type": "code",
   "execution_count": 77,
   "id": "fc810c51",
   "metadata": {},
   "outputs": [
    {
     "data": {
      "text/plain": [
       "array([-1, -1, -1, -1, -1])"
      ]
     },
     "execution_count": 77,
     "metadata": {},
     "output_type": "execute_result"
    }
   ],
   "source": [
    "a-b\n",
    "#Dengan seperti ini, operasi pengurangan dapat dilakukan "
   ]
  },
  {
   "cell_type": "code",
   "execution_count": 75,
   "id": "501f4716",
   "metadata": {},
   "outputs": [
    {
     "data": {
      "text/plain": [
       "array([30, 42, 56, 72, 90])"
      ]
     },
     "execution_count": 75,
     "metadata": {},
     "output_type": "execute_result"
    }
   ],
   "source": [
    "a*b\n",
    "#Operasi perkalian juga tidak dapat dijalankan apabila jumlah elemen berbeda"
   ]
  },
  {
   "cell_type": "code",
   "execution_count": 83,
   "id": "53f3d5fe",
   "metadata": {},
   "outputs": [
    {
     "data": {
      "text/plain": [
       "array([ 0.28366219,  0.96017029,  0.75390225, -0.14550003, -0.91113026])"
      ]
     },
     "execution_count": 83,
     "metadata": {},
     "output_type": "execute_result"
    }
   ],
   "source": [
    "np.cos(a)\n",
    "#Program ini adalah untuk memberikan perintah mencetak cos dari semua elemen a"
   ]
  },
  {
   "cell_type": "code",
   "execution_count": 82,
   "id": "6700f98f",
   "metadata": {},
   "outputs": [
    {
     "data": {
      "text/plain": [
       "array([ 0.96017029,  0.75390225, -0.14550003, -0.91113026, -0.83907153])"
      ]
     },
     "execution_count": 82,
     "metadata": {},
     "output_type": "execute_result"
    }
   ],
   "source": [
    "np.cos(b)\n",
    "#Program ini adalah untuk memberikan perintah mencetak cos dari semua elemen b"
   ]
  },
  {
   "cell_type": "code",
   "execution_count": 84,
   "id": "da458709",
   "metadata": {},
   "outputs": [
    {
     "data": {
      "text/plain": [
       "array([-3.38051501, -0.29100619,  0.87144798, -6.79971146, -0.45231566])"
      ]
     },
     "execution_count": 84,
     "metadata": {},
     "output_type": "execute_result"
    }
   ],
   "source": [
    "np.tan(a)\n",
    "#Program ini adalah untuk memberikan perintah untuk mencetak tan dari semua elemen a"
   ]
  },
  {
   "cell_type": "code",
   "execution_count": 85,
   "id": "9d17f8aa",
   "metadata": {},
   "outputs": [
    {
     "data": {
      "text/plain": [
       "array([  74.20321058,  201.71315737,  548.31612327, 1490.47882579,\n",
       "       4051.54190208])"
      ]
     },
     "execution_count": 85,
     "metadata": {},
     "output_type": "execute_result"
    }
   ],
   "source": [
    "np.sinh(a)\n",
    "#Fungsi ini akan mengembalikan sinus hiperbolik dari bilangan x yang diberikan."
   ]
  },
  {
   "cell_type": "code",
   "execution_count": 86,
   "id": "7991a277",
   "metadata": {},
   "outputs": [
    {
     "data": {
      "text/plain": [
       "array([  74.20994852,  201.71563612,  548.31703516, 1490.47916125,\n",
       "       4051.54202549])"
      ]
     },
     "execution_count": 86,
     "metadata": {},
     "output_type": "execute_result"
    }
   ],
   "source": [
    "np.cosh(a)\n",
    "#Ini akan mengembalikan cosinus hiperbolik dari angka yang diberikan x."
   ]
  },
  {
   "cell_type": "code",
   "execution_count": 87,
   "id": "64f13078",
   "metadata": {},
   "outputs": [
    {
     "data": {
      "text/plain": [
       "array([0.9999092 , 0.99998771, 0.99999834, 0.99999977, 0.99999997])"
      ]
     },
     "execution_count": 87,
     "metadata": {},
     "output_type": "execute_result"
    }
   ],
   "source": [
    "np.tanh(a)\n",
    "#Ini akan mengembalikan tangen hiperbolik dari angka yang diberikan x."
   ]
  },
  {
   "cell_type": "code",
   "execution_count": 88,
   "id": "8e134f98",
   "metadata": {},
   "outputs": [
    {
     "data": {
      "text/plain": [
       "array([2.23606798, 2.44948974, 2.64575131, 2.82842712, 3.        ])"
      ]
     },
     "execution_count": 88,
     "metadata": {},
     "output_type": "execute_result"
    }
   ],
   "source": [
    "np.sqrt(a)\n",
    "#Ini akan mengembalikan akar kuadrat dari argumen yang diteruskan x."
   ]
  },
  {
   "cell_type": "markdown",
   "id": "e6b952d7",
   "metadata": {},
   "source": [
    "## 5.20.6 Perkalian Matrix pada Numpy"
   ]
  },
  {
   "cell_type": "code",
   "execution_count": 114,
   "id": "7b0d02e6",
   "metadata": {},
   "outputs": [
    {
     "name": "stdout",
     "output_type": "stream",
     "text": [
      "[[1 2 3 4]\n",
      " [5 6 7 8]]\n"
     ]
    }
   ],
   "source": [
    "a = np.array ([[1,2,3,4],[5,6,7,8]])\n",
    "print(a)\n",
    "\n",
    "#Di dalam array a kita buat terdapat 2 indeks "
   ]
  },
  {
   "cell_type": "code",
   "execution_count": 119,
   "id": "814ddf68",
   "metadata": {},
   "outputs": [
    {
     "name": "stdout",
     "output_type": "stream",
     "text": [
      "[[9 8 7 6]\n",
      " [7 1 4 3]]\n"
     ]
    }
   ],
   "source": [
    "b = np.array ([[9,8,7,6],[7,1,4,3]])\n",
    "print(b)\n",
    "#Begitupun pada array b kita akan membuat 2 buah indeks di dalamnya"
   ]
  },
  {
   "cell_type": "code",
   "execution_count": 120,
   "id": "143d1028",
   "metadata": {},
   "outputs": [
    {
     "name": "stdout",
     "output_type": "stream",
     "text": [
      "[[ 9 16 21 24]\n",
      " [35  6 28 24]]\n"
     ]
    }
   ],
   "source": [
    "c = a*b\n",
    "print(c)\n",
    "#Unuk operasi perkalian, jumlah kedua indeks harus memiliki jumlah elemen yang sama, jika berbeda maka hasilnya akan error"
   ]
  },
  {
   "cell_type": "code",
   "execution_count": 122,
   "id": "1149723d",
   "metadata": {},
   "outputs": [
    {
     "ename": "ValueError",
     "evalue": "matmul: Input operand 1 has a mismatch in its core dimension 0, with gufunc signature (n?,k),(k,m?)->(n?,m?) (size 2 is different from 4)",
     "output_type": "error",
     "traceback": [
      "\u001b[1;31m---------------------------------------------------------------------------\u001b[0m",
      "\u001b[1;31mValueError\u001b[0m                                Traceback (most recent call last)",
      "\u001b[1;32m~\\AppData\\Local\\Temp\\ipykernel_18980\\4000991568.py\u001b[0m in \u001b[0;36m<module>\u001b[1;34m\u001b[0m\n\u001b[1;32m----> 1\u001b[1;33m \u001b[0md\u001b[0m \u001b[1;33m=\u001b[0m \u001b[0mnp\u001b[0m\u001b[1;33m.\u001b[0m\u001b[0mmatmul\u001b[0m\u001b[1;33m(\u001b[0m\u001b[0ma\u001b[0m\u001b[1;33m,\u001b[0m\u001b[0mb\u001b[0m\u001b[1;33m)\u001b[0m\u001b[1;33m\u001b[0m\u001b[1;33m\u001b[0m\u001b[0m\n\u001b[0m\u001b[0;32m      2\u001b[0m \u001b[0mprint\u001b[0m\u001b[1;33m(\u001b[0m\u001b[0md\u001b[0m\u001b[1;33m)\u001b[0m\u001b[1;33m\u001b[0m\u001b[1;33m\u001b[0m\u001b[0m\n",
      "\u001b[1;31mValueError\u001b[0m: matmul: Input operand 1 has a mismatch in its core dimension 0, with gufunc signature (n?,k),(k,m?)->(n?,m?) (size 2 is different from 4)"
     ]
    }
   ],
   "source": [
    "d = np.matmul(a,b)\n",
    "print(d)\n",
    "\n",
    "#Kode ini error karena a merupakan matrix 2x4  dan b juga merupakan matrix 2x4\n",
    "#Matrix yang sama-sama berukuran 2x4 tidak dapat diproses karena tidak memenuhi persyaratan untuk perkalian matrix"
   ]
  },
  {
   "cell_type": "code",
   "execution_count": 123,
   "id": "018e264a",
   "metadata": {},
   "outputs": [
    {
     "name": "stdout",
     "output_type": "stream",
     "text": [
      "[[ 9 10]\n",
      " [11 12]\n",
      " [13 14]\n",
      " [15 16]]\n"
     ]
    }
   ],
   "source": [
    "e = np.array([[9,10],[11,12],[13,14],[15,16]])\n",
    "print(e)\n",
    "\n",
    "#Kita akan membuat sebuah array baru yang bernama e dengan ukurannya adalah 4x2"
   ]
  },
  {
   "cell_type": "code",
   "execution_count": 124,
   "id": "2f163674",
   "metadata": {},
   "outputs": [
    {
     "name": "stdout",
     "output_type": "stream",
     "text": [
      "[[130 140]\n",
      " [322 348]]\n"
     ]
    }
   ],
   "source": [
    "f = np.matmul(a,e)\n",
    "print(f)\n",
    "#Matrix a yang berukuran 2x4 akan dikalikan dengan matrix b yang berukuran 4x2\n",
    "#Karena memenuhi syarat perkalian matrix, kedua matrix ini dapat diproses"
   ]
  },
  {
   "cell_type": "code",
   "execution_count": 125,
   "id": "5e3630c3",
   "metadata": {},
   "outputs": [
    {
     "ename": "ValueError",
     "evalue": "operands could not be broadcast together with shapes (2,4) (4,2) ",
     "output_type": "error",
     "traceback": [
      "\u001b[1;31m---------------------------------------------------------------------------\u001b[0m",
      "\u001b[1;31mValueError\u001b[0m                                Traceback (most recent call last)",
      "\u001b[1;32m~\\AppData\\Local\\Temp\\ipykernel_18980\\2513138200.py\u001b[0m in \u001b[0;36m<module>\u001b[1;34m\u001b[0m\n\u001b[1;32m----> 1\u001b[1;33m \u001b[0mg\u001b[0m \u001b[1;33m=\u001b[0m \u001b[0ma\u001b[0m\u001b[1;33m*\u001b[0m\u001b[0me\u001b[0m\u001b[1;33m\u001b[0m\u001b[1;33m\u001b[0m\u001b[0m\n\u001b[0m",
      "\u001b[1;31mValueError\u001b[0m: operands could not be broadcast together with shapes (2,4) (4,2) "
     ]
    }
   ],
   "source": [
    "g = a*e\n",
    "\n",
    "#Matrix 2x4 dan 4x2 tidak bisa diproses karena jumlah baris dan kolomnya berbeda \n",
    "#Bentuk kode seperti ini bukan merupakan perkalian matrix"
   ]
  },
  {
   "cell_type": "markdown",
   "id": "666ea228",
   "metadata": {},
   "source": [
    "## 5.20.7 min, max, dan sum pada Numpy"
   ]
  },
  {
   "cell_type": "code",
   "execution_count": 134,
   "id": "e191add5",
   "metadata": {},
   "outputs": [
    {
     "name": "stdout",
     "output_type": "stream",
     "text": [
      "[[ 1  2  3  4]\n",
      " [ 5  6  7  8]\n",
      " [ 9 10 11 12]]\n"
     ]
    }
   ],
   "source": [
    "a = np.array([[1,2,3,4],\n",
    "              [5,6,7,8],\n",
    "              [9,10,11,12]])\n",
    "print(a)"
   ]
  },
  {
   "cell_type": "code",
   "execution_count": 135,
   "id": "ed62d9a8",
   "metadata": {},
   "outputs": [
    {
     "name": "stdout",
     "output_type": "stream",
     "text": [
      "1\n"
     ]
    }
   ],
   "source": [
    "b = np.min(a)\n",
    "print(b)\n",
    "\n",
    "#b didefinisikan sebagai nilai terkecil (minimal) dari semua angka yang ada dalam array a\n",
    "#Angka terkecil dari array a adalah 1"
   ]
  },
  {
   "cell_type": "code",
   "execution_count": 136,
   "id": "17dcb700",
   "metadata": {},
   "outputs": [
    {
     "name": "stdout",
     "output_type": "stream",
     "text": [
      "[1 2 3 4]\n"
     ]
    }
   ],
   "source": [
    "c = np.min(a,axis=0)\n",
    "print(c)\n",
    "\n",
    "#Secara keseluruhan, program ini adalah untuk menemukan nilai minimun dalam matrix pada baris tertentu\n",
    "#Axis = 0 menujukan 'baris' data array"
   ]
  },
  {
   "cell_type": "code",
   "execution_count": 140,
   "id": "f4cb353f",
   "metadata": {},
   "outputs": [
    {
     "name": "stdout",
     "output_type": "stream",
     "text": [
      "[1 5 9]\n"
     ]
    }
   ],
   "source": [
    "d = np.min(a,axis=1)\n",
    "print(d)\n",
    "\n",
    "#Secara keseluruhan, program ini adalah untuk menemukan nilai minimal matrix pada kolom tertentu\n",
    "#dengan axis = 1 menujukan 'kolom' data array"
   ]
  },
  {
   "cell_type": "code",
   "execution_count": 141,
   "id": "b47821f7",
   "metadata": {},
   "outputs": [
    {
     "name": "stdout",
     "output_type": "stream",
     "text": [
      "12\n"
     ]
    }
   ],
   "source": [
    "e = np.max(a)\n",
    "print(e)\n",
    "\n",
    "#Nilai terbesar(masimum) dari array a adalah 12 sehingga hasilnya adalah 12"
   ]
  },
  {
   "cell_type": "code",
   "execution_count": 143,
   "id": "f9b89df1",
   "metadata": {},
   "outputs": [
    {
     "name": "stdout",
     "output_type": "stream",
     "text": [
      "[ 9 10 11 12]\n"
     ]
    }
   ],
   "source": [
    "f = np.max(a,axis=0)\n",
    "print(f)\n",
    "\n",
    "#Secara keseluruhan, fungsi program ini adalah untuk menemukan nilai maksimum dari baris tertentu\n",
    "#dengan axis = 0 menujukan 'baris' data array"
   ]
  },
  {
   "cell_type": "code",
   "execution_count": 145,
   "id": "22bebc89",
   "metadata": {},
   "outputs": [
    {
     "name": "stdout",
     "output_type": "stream",
     "text": [
      "[ 4  8 12]\n"
     ]
    }
   ],
   "source": [
    "g = np.max(a,axis=1)\n",
    "print(g)\n",
    "\n",
    "#Secara keseluruhan fungsi program ini adalah untuk menemukan nilai maksimum pada kolom tertentu\n",
    "#dengan axis = 1 menujukan 'kolom' data array"
   ]
  },
  {
   "cell_type": "code",
   "execution_count": 147,
   "id": "a4a410d8",
   "metadata": {},
   "outputs": [
    {
     "name": "stdout",
     "output_type": "stream",
     "text": [
      "78\n"
     ]
    }
   ],
   "source": [
    "h = np.sum(a)\n",
    "print(h)\n",
    "\n",
    "#Fungsi sum adalah untuk menjumlahkan semua elemen yang ada pada array a\n",
    "#Total keseluruhan elemennya adalah 78, sehingga hasilnya adalah 78"
   ]
  },
  {
   "cell_type": "code",
   "execution_count": 149,
   "id": "84fefe13",
   "metadata": {},
   "outputs": [
    {
     "name": "stdout",
     "output_type": "stream",
     "text": [
      "[15 18 21 24]\n"
     ]
    }
   ],
   "source": [
    "h = np.sum(a,axis=0)\n",
    "print(h)\n",
    "\n",
    "#Secara keseluruhan, program ini adalah untuk menjumlahkan semua elemen matrix pada baris tertentu\n",
    "#dengan axis = 0 menunjukan 'baris' data array"
   ]
  },
  {
   "cell_type": "code",
   "execution_count": 150,
   "id": "6e29862e",
   "metadata": {},
   "outputs": [
    {
     "name": "stdout",
     "output_type": "stream",
     "text": [
      "[10 26 42]\n"
     ]
    }
   ],
   "source": [
    "i = np.sum(a,axis=1)\n",
    "print(i)\n",
    "\n",
    "#Secara keseluruhan, program ini adalah untuk menjumlahkan semua elemen matrix pada kolom tertentu\n",
    "#Dengan axis = 1 menunjukan 'kolom' data array"
   ]
  }
 ],
 "metadata": {
  "kernelspec": {
   "display_name": "Python 3 (ipykernel)",
   "language": "python",
   "name": "python3"
  },
  "language_info": {
   "codemirror_mode": {
    "name": "ipython",
    "version": 3
   },
   "file_extension": ".py",
   "mimetype": "text/x-python",
   "name": "python",
   "nbconvert_exporter": "python",
   "pygments_lexer": "ipython3",
   "version": "3.9.13"
  }
 },
 "nbformat": 4,
 "nbformat_minor": 5
}
