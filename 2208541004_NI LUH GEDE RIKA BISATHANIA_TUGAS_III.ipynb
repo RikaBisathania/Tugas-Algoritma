{
 "cells": [
  {
   "cell_type": "markdown",
   "id": "3fa6ed28",
   "metadata": {},
   "source": [
    "# Pertemuan 3 Matakuliah Algoritma dan Struktur Data\n",
    "Senin, 20 Maret 2023\n",
    "2208541004_Ni Luh Gede Rika Bisathania"
   ]
  },
  {
   "cell_type": "code",
   "execution_count": 15,
   "id": "a0fbcf72",
   "metadata": {},
   "outputs": [
    {
     "name": "stdout",
     "output_type": "stream",
     "text": [
      "ini\n"
     ]
    }
   ],
   "source": [
    "#String Index-latihan 1\n",
    "kelas = 'ini kelas algoritma'\n",
    "print(kelas[0:3])\n",
    "\n",
    "#0 melambangkan karakter pertama (ini kelas algoritma)\n",
    "\n",
    "#3 melambangkan karakter ketiga yang dihitung dari depan (kelas algoritma)\n",
    "\n",
    "#(spasi) dalam python dihitung sebagai karakter\n",
    "#i=0\n",
    "#n=1\n",
    "#i=2\n",
    "#(spasi)=3,dst\n",
    "#karena (spasi) tidak menampilkan karakter, maka outputnya hanya akan bertuliskan \"ini\""
   ]
  },
  {
   "cell_type": "code",
   "execution_count": 6,
   "id": "cd539c75",
   "metadata": {},
   "outputs": [
    {
     "name": "stdout",
     "output_type": "stream",
     "text": [
      "sudah maka\n"
     ]
    }
   ],
   "source": [
    "#String Index-Latihan 2\n",
    "x = \"sudah makan\"\n",
    "#menggunakan petik 1 atau petik 2 tidak berpengaruh\n",
    "print(x[0:-1])\n",
    "\n",
    "#pada kode ini, -1 adalah karakter pertama dari belakang\n",
    "#0 artinya semua karakter dari depan dimasukkan, dengan kata lain dimulai dari s\n",
    "#spasi juga dihitung sebagai karakter"
   ]
  },
  {
   "cell_type": "code",
   "execution_count": 16,
   "id": "f2a4c1d7",
   "metadata": {},
   "outputs": [
    {
     "name": "stdout",
     "output_type": "stream",
     "text": [
      "siswa matematik\n"
     ]
    }
   ],
   "source": [
    "#String Index-Latihan 3\n",
    "x = \"saya siswa matematika\"\n",
    "print(x[5:-1])\n",
    "\n",
    "#5 mewakili karakter kelima yang dihitung dari depan\n",
    "#s=0\n",
    "#a=1\n",
    "#y=2\n",
    "#a=3\n",
    "#(spasi)=4\n",
    "#s=5\n",
    "\n",
    "#-1 mewakili karakter pertama yang dihitung dari belakang\n",
    "#a=-1\n",
    "#k=-2\n",
    "#i=-3"
   ]
  },
  {
   "cell_type": "code",
   "execution_count": 10,
   "id": "4ea4333e",
   "metadata": {},
   "outputs": [
    {
     "name": "stdout",
     "output_type": "stream",
     "text": [
      "iuaa\n"
     ]
    }
   ],
   "source": [
    "#String Index-Latihan 4\n",
    "x = \"ini punya saya\"\n",
    "print(x[2:-1:3])\n",
    "\n",
    "#2 mewakili karakter kedua yang dihitung dari depan (i punya saya)\n",
    "\n",
    "#-1 mewakili karakter pertama yang dihitung dari belakang (i punya say)\n",
    "\n",
    "#3 mewakili loncatan atau kelipatan dari karakter\n",
    "#jika mau menghitung kelipatan, mulailah dari 0\n",
    "#i=0\n",
    "#(spasi)=1\n",
    "#p=2\n",
    "#u=3"
   ]
  },
  {
   "cell_type": "code",
   "execution_count": 18,
   "id": "ac5b743c",
   "metadata": {},
   "outputs": [
    {
     "name": "stdout",
     "output_type": "stream",
     "text": [
      "saya suka a\n"
     ]
    }
   ],
   "source": [
    "#String Index-Latihan 5\n",
    "x = \"saya suka ayam\"\n",
    "print(x[:-3])\n",
    "\n",
    "#artinya sama seperti [0:-3]"
   ]
  },
  {
   "cell_type": "code",
   "execution_count": 19,
   "id": "b6824c16",
   "metadata": {},
   "outputs": [
    {
     "name": "stdout",
     "output_type": "stream",
     "text": [
      "ulan itu indah\n"
     ]
    }
   ],
   "source": [
    "#String Index-Latihan 6\n",
    "x = \"bulan itu indah\"\n",
    "print(x[1:])\n",
    "\n",
    "#artinya sama seperti [1:0]"
   ]
  },
  {
   "cell_type": "code",
   "execution_count": 20,
   "id": "69026d68",
   "metadata": {},
   "outputs": [
    {
     "name": "stdout",
     "output_type": "stream",
     "text": [
      "saya suka kamu\n"
     ]
    }
   ],
   "source": [
    "#String Index-Latihan 7\n",
    "x = \"saya suka kamu\"\n",
    "print(x[:])\n",
    "\n",
    "#artinya sama seperti [0:0] atau tidak ada rentangan"
   ]
  },
  {
   "cell_type": "code",
   "execution_count": 21,
   "id": "84a7f091",
   "metadata": {},
   "outputs": [
    {
     "name": "stdout",
     "output_type": "stream",
     "text": [
      "11\n"
     ]
    }
   ],
   "source": [
    "#String Methods-Latihan 1\n",
    "x = 'rika cantik'\n",
    "print(len(x))\n",
    "#untuk menghitung jumlah karakter dan spasi dihitung "
   ]
  },
  {
   "cell_type": "code",
   "execution_count": 22,
   "id": "16d47d7b",
   "metadata": {},
   "outputs": [
    {
     "name": "stdout",
     "output_type": "stream",
     "text": [
      "14\n"
     ]
    }
   ],
   "source": [
    "#String Methods-Latihan 2\n",
    "x = \"ini saya, Rika\"\n",
    "print(len(x))\n",
    "\n",
    "#(spasi) juga dihitung\n",
    "#karakter selain huruf juga dihitung"
   ]
  },
  {
   "cell_type": "code",
   "execution_count": 27,
   "id": "3ae864b7",
   "metadata": {},
   "outputs": [
    {
     "name": "stdout",
     "output_type": "stream",
     "text": [
      "SAYA SUDAH BELAJAR --\n",
      "SAYA SUDAH BELAJAR --\n"
     ]
    }
   ],
   "source": [
    "#String Methods-Latihan 3\n",
    "\n",
    "x = \"saya sudah belajar --\"\n",
    "print(x.upper())\n",
    "\n",
    "x = \"SAYA SUDAH BELAJAR --\"\n",
    "print(x.upper())\n",
    "\n",
    "#untuk menjadikan karakter berupa huruf menjadi kapital\n",
    "#karakter yang bukan huruf hasilnya akan sama (tidak berubah)\n",
    "#karakter huruf yang sudah huruf kapital, akan tetap menjadi kapital \n",
    "#tidak bisa mengapitalkan hanya beberapa huruf saja"
   ]
  },
  {
   "cell_type": "code",
   "execution_count": 26,
   "id": "1cdef1a4",
   "metadata": {},
   "outputs": [
    {
     "name": "stdout",
     "output_type": "stream",
     "text": [
      "kemarin saya jalan-jalan\n",
      "kemarin saya jalan-jalan\n"
     ]
    }
   ],
   "source": [
    "#String Methods-Latihan 4\n",
    "\n",
    "x = \"KEMARIN SAYA JALAN-JALAN\"\n",
    "print(x.lower())\n",
    "\n",
    "x = \"kemarin saya jalan-jalan\"\n",
    "print(x.lower())\n",
    "\n",
    "#untuk menjadikan karakter huruf dari kapital menjadi huruf kecil\n",
    "#jika karakter sudah hurus kecil, akan tetap menjadi huruf kecil"
   ]
  },
  {
   "cell_type": "code",
   "execution_count": 35,
   "id": "85f4230e",
   "metadata": {},
   "outputs": [
    {
     "data": {
      "text/plain": [
       "4"
      ]
     },
     "execution_count": 35,
     "metadata": {},
     "output_type": "execute_result"
    }
   ],
   "source": [
    "#String Methods-Latihan 5\n",
    "x = 'ini saya'\n",
    "x.find('saya')\n",
    "\n",
    "#untuk menemukan letak karakter yang dicari \n",
    "#dihitung mulai dari 0 pada karakter pertama\n",
    "#dihitung mulai dari karakter pertama dari kata yang dicari"
   ]
  },
  {
   "cell_type": "code",
   "execution_count": 38,
   "id": "4b159f22",
   "metadata": {},
   "outputs": [
    {
     "data": {
      "text/plain": [
       "-1"
      ]
     },
     "execution_count": 38,
     "metadata": {},
     "output_type": "execute_result"
    }
   ],
   "source": [
    "#String Methods-Latihan 6\n",
    "x = 'saya buat ini waktu nyepi'\n",
    "x.find('letak')\n",
    "\n",
    "#apabila karakter yang dicari tidak ditemukan, maka ia akan menampilkan -1"
   ]
  },
  {
   "cell_type": "code",
   "execution_count": 40,
   "id": "c5c2c5a2",
   "metadata": {},
   "outputs": [
    {
     "name": "stdout",
     "output_type": "stream",
     "text": [
      "astungkara rahayu\n",
      "ASTUNGKARA RAHAYU\n"
     ]
    }
   ],
   "source": [
    "#String Methods-Latihan 7\n",
    "x = \"astungkara rahayu\"\n",
    "print(x.lower())\n",
    "print(x.upper())\n",
    "\n",
    "#apabila ingin mengasilkan output dari semua perintah, maka menggunakan print\n",
    "#jika tidak, komputer hanya akan memproses perintah terakhir saja"
   ]
  },
  {
   "cell_type": "code",
   "execution_count": 42,
   "id": "2bbb0084",
   "metadata": {},
   "outputs": [
    {
     "name": "stdout",
     "output_type": "stream",
     "text": [
      "hari ini adalah hari senin\n"
     ]
    }
   ],
   "source": [
    "#String Methods-Latihan 8\n",
    "x = 'kemarin adalah hari senin'\n",
    "print(x.replace('kemarin', 'hari ini'))\n",
    "\n",
    "#untuk mengganti suatu katakter dengan karakter lain\n",
    "#kita tidak menghapus karakter lama tapi menimpanya"
   ]
  },
  {
   "cell_type": "code",
   "execution_count": 45,
   "id": "332b8225",
   "metadata": {},
   "outputs": [
    {
     "name": "stdout",
     "output_type": "stream",
     "text": [
      "True\n",
      "False\n"
     ]
    }
   ],
   "source": [
    "#String Methods-Latihan 9\n",
    "x = 'makasi nasi pakai ayam'\n",
    "print('ayam' in x)\n",
    "print('selesai' in x)\n",
    "\n",
    "#untuk mengetahui apakah suatu karakter merupakan bagian dari suatu komponen atau kalimat\n",
    "#jika termasuk akan menghasilkan True\n",
    "#jika tidak termasuk akan menghasilkan false"
   ]
  },
  {
   "cell_type": "code",
   "execution_count": 47,
   "id": "b595d85b",
   "metadata": {},
   "outputs": [
    {
     "name": "stdout",
     "output_type": "stream",
     "text": [
      "2\n",
      "0\n"
     ]
    }
   ],
   "source": [
    "#String Methods-Latihan 10\n",
    "x = 'hari senin adalah hari senin'\n",
    "print(x.count('senin'))\n",
    "print(x.count('selasa'))\n",
    "\n",
    "#untuk menghitung jumlah suatu karakter dalam sebuah kalimat\n",
    "#jika jumlah suatu karakter yang dihitung tidak ada, maka akan menghasilkan 0"
   ]
  },
  {
   "cell_type": "code",
   "execution_count": 55,
   "id": "8bb2030a",
   "metadata": {},
   "outputs": [
    {
     "name": "stdout",
     "output_type": "stream",
     "text": [
      "1001\n",
      "-1\n",
      "121876010\n",
      "2.0\n",
      "1\n",
      "1\n",
      "8\n"
     ]
    }
   ],
   "source": [
    "#Operasi Matematika pada di Python-Latihan 1\n",
    "\n",
    "print (1000+1) #+ untuk menjumlahkan\n",
    "\n",
    "print (1-2) #- untuk mengurangkan\n",
    "\n",
    "print (98765*1234) #* untuk mengalikan\n",
    "\n",
    "print (6/3) #/ untuk membagi\n",
    "\n",
    "print (4//3) #// untuk membagi dua bilangan dan hasilnya dibulatkan\n",
    "\n",
    "print (4%3) #% adalah untuk menghitung modulo\n",
    "\n",
    "print (2**3) #** adalah untuk membuat pangkat dari bilangan\n"
   ]
  },
  {
   "cell_type": "code",
   "execution_count": 4,
   "id": "ba4a8283",
   "metadata": {},
   "outputs": [
    {
     "name": "stdout",
     "output_type": "stream",
     "text": [
      "6\n"
     ]
    }
   ],
   "source": [
    "#Operasi Matematika pada di Python-Latihan 2\n",
    "#Augmented operator pada penjumlahan\n",
    "x = 3\n",
    "x += 3\n",
    "print(x)\n",
    "\n",
    "#dibaca x = x + 3, dengan x = 3\n",
    "#Hasilnya adalah 6"
   ]
  },
  {
   "cell_type": "code",
   "execution_count": 5,
   "id": "0fe37f16",
   "metadata": {},
   "outputs": [
    {
     "name": "stdout",
     "output_type": "stream",
     "text": [
      "1\n"
     ]
    }
   ],
   "source": [
    "#Operasi Matematika pada di Python-Latihan 3\n",
    "#Augmented operator pada pengurangan\n",
    "x = 5\n",
    "x -= 4\n",
    "print(x)\n",
    "\n",
    "#dibaca x = x + 4, dengan x = 5\n",
    "#Hasilnya adalah 1"
   ]
  },
  {
   "cell_type": "code",
   "execution_count": 6,
   "id": "c887a5bb",
   "metadata": {},
   "outputs": [
    {
     "name": "stdout",
     "output_type": "stream",
     "text": [
      "35\n"
     ]
    }
   ],
   "source": [
    "#Operasi Matematika pada di Python-Latihan 4\n",
    "#Augmented operator pada perkalian\n",
    "x = 5\n",
    "x *= 7\n",
    "print(x)\n",
    "\n",
    "#dibaca x = x * 7, dengan x = 5\n",
    "#Hasilnya adalah 35"
   ]
  },
  {
   "cell_type": "code",
   "execution_count": 8,
   "id": "00b1af6b",
   "metadata": {},
   "outputs": [
    {
     "name": "stdout",
     "output_type": "stream",
     "text": [
      "3.0\n"
     ]
    }
   ],
   "source": [
    "#Operasi Matematika pada di Python-Latihan 5\n",
    "#Augmented operator pada pembagian\n",
    "x = 6\n",
    "x /= 2\n",
    "print(x)\n",
    "\n",
    "#dibaca x = X/2, dengan x = 6\n",
    "#Hasilnya adalah 3"
   ]
  },
  {
   "cell_type": "code",
   "execution_count": 6,
   "id": "68418c20",
   "metadata": {},
   "outputs": [
    {
     "name": "stdout",
     "output_type": "stream",
     "text": [
      "jumlah buah yang anda miliki adalah  23\n"
     ]
    }
   ],
   "source": [
    "#Operasi Matematika di Python-Latihan 6\n",
    "#Operator Aritmatika\n",
    "#penjumlahan \n",
    "apel = 10\n",
    "mangga = 13\n",
    "buah = 10+13\n",
    "print(\"jumlah buah yang anda miliki adalah \", buah)\n",
    "\n",
    "#contoh pengaplikasi operasi matematika dalam operator matematika"
   ]
  },
  {
   "cell_type": "code",
   "execution_count": 8,
   "id": "89433795",
   "metadata": {},
   "outputs": [
    {
     "name": "stdout",
     "output_type": "stream",
     "text": [
      "sisa hutang anda andalah :  70000\n"
     ]
    }
   ],
   "source": [
    "#Operasi Matematika di Python-Latihan 7\n",
    "#Operator Aritmatika\n",
    "#pengurangan \n",
    "\n",
    "hutang = 120000\n",
    "bayar = 50000\n",
    "sisa_hutang = hutang - bayar\n",
    "print('sisa hutang anda andalah : ', sisa_hutang)\n",
    "\n",
    "#penulisan sisa hutang harus sisa_hutang agar komputer dapat membacanya"
   ]
  },
  {
   "cell_type": "code",
   "execution_count": 12,
   "id": "8ddbc78f",
   "metadata": {},
   "outputs": [
    {
     "name": "stdout",
     "output_type": "stream",
     "text": [
      "luas persegi panjang adalah :  120\n"
     ]
    }
   ],
   "source": [
    "#Operasi Matematika di Python-Latihan 8\n",
    "#Operator Aritmatika\n",
    "#perkalian \n",
    "\n",
    "#menghitung luas persegi panjang (panjang*lebar)\n",
    "panjang = 30\n",
    "lebar = 4\n",
    "luas = panjang*lebar\n",
    "print(\"luas persegi panjang adalah : \", luas)\n",
    "\n",
    "#selain menggunakan tanda (*) kita juga bisa menggunakan (\\*)"
   ]
  },
  {
   "cell_type": "code",
   "execution_count": 13,
   "id": "081bfbc4",
   "metadata": {},
   "outputs": [
    {
     "name": "stdout",
     "output_type": "stream",
     "text": [
      "jadi setiap anak mendapatkan : 5000.0\n"
     ]
    }
   ],
   "source": [
    "#Operasi Matematika di Python-Latihan 9\n",
    "#Operator Aritmatika\n",
    "#pembagian\n",
    "\n",
    "uang = 20000\n",
    "anak = 4\n",
    "uang_setiap_anak = 20000/4\n",
    "print(\"jadi setiap anak mendapatkan :\", uang_setiap_anak)"
   ]
  },
  {
   "cell_type": "code",
   "execution_count": 17,
   "id": "2c2a322d",
   "metadata": {},
   "outputs": [
    {
     "name": "stdout",
     "output_type": "stream",
     "text": [
      "1336336\n"
     ]
    }
   ],
   "source": [
    "#Operasi Matematika di Python-Latihan 10\n",
    "#Operator Aritmatika\n",
    "#pangkat\n",
    "\n",
    "bilangan_asli = 34\n",
    "bilangan_pangkat= 4\n",
    "hasil_pangkat = bilangan_asli**bilangan_pangkat\n",
    "print(hasil_pangkat)"
   ]
  },
  {
   "cell_type": "code",
   "execution_count": 15,
   "id": "4e8cfbac",
   "metadata": {},
   "outputs": [
    {
     "name": "stdout",
     "output_type": "stream",
     "text": [
      "2\n"
     ]
    }
   ],
   "source": [
    "#Operasi Matematika di Python-Latihan 11\n",
    "#Operator Aritmatika\n",
    "#modulo\n",
    "\n",
    "bilangan1 = 17\n",
    "bilangan2 = 5\n",
    "hasil = bilangan1%bilangan2\n",
    "print(hasil)"
   ]
  },
  {
   "cell_type": "code",
   "execution_count": 18,
   "id": "a2e2a67d",
   "metadata": {},
   "outputs": [
    {
     "name": "stdout",
     "output_type": "stream",
     "text": [
      "True\n",
      "True\n",
      "True\n",
      "True\n",
      "True\n",
      "True\n"
     ]
    }
   ],
   "source": [
    "#Operator Perbandingan di Python-Latihan 1\n",
    "\n",
    "x = 3>2\n",
    "print(x) #3 lebih besar dari 2 sehingga menghasilkan True\n",
    "x = 2<3\n",
    "print(x) #2 lebih kecil dari 3 sehingga menghasilkan trus \n",
    "x = 3>= 2\n",
    "print(x) #(>=) memiliki arti lebih besar sama dengan \n",
    "x = 2<= 3\n",
    "print(x) #(<=) memiliki arti lebih kecil sama dengan\n",
    "x = 3==3\n",
    "print(x) #(==) memiliki arti sama dengan, kedua bilangan bernilai sama\n",
    "x = 3!= 4\n",
    "print(x) #(!=) memiliki arti tidak sama dengan, kedua bilangan bernilai tidak sama"
   ]
  },
  {
   "cell_type": "code",
   "execution_count": 14,
   "id": "6b022ab4",
   "metadata": {},
   "outputs": [
    {
     "name": "stdout",
     "output_type": "stream",
     "text": [
      "False\n",
      "-1\n",
      "True\n",
      "-2\n"
     ]
    }
   ],
   "source": [
    "#Operator Perbandingan di Python-Latihan 2\n",
    "# tanda (~) diartikan dengan negasi berarti lawan dari nilai kebenaran sebuah pernyataan\n",
    "\n",
    "x = 3 > 10\n",
    "print(x) #False, karena 3 lebih kecil dari 10\n",
    "print(~(x))#True, karena kebalikan dari False adalah True\n",
    "\n",
    "y = 3<10\n",
    "print(y) #True, karena 3 memang lebil kecil dari 10\n",
    "print(~y)#False, karena kebalikan dari True adalah False\n",
    "\n",
    "#-1 diartikan sebagai True\n",
    "#-1 diartikan sebagai False"
   ]
  },
  {
   "cell_type": "code",
   "execution_count": 22,
   "id": "87d43ab8",
   "metadata": {},
   "outputs": [
    {
     "ename": "SyntaxError",
     "evalue": "invalid syntax (2075174155.py, line 6)",
     "output_type": "error",
     "traceback": [
      "\u001b[1;36m  File \u001b[1;32m\"C:\\Users\\user\\AppData\\Local\\Temp\\ipykernel_23456\\2075174155.py\"\u001b[1;36m, line \u001b[1;32m6\u001b[0m\n\u001b[1;33m    print(uang_lisa < 2000 && uang_jennie > 6000)\u001b[0m\n\u001b[1;37m                            ^\u001b[0m\n\u001b[1;31mSyntaxError\u001b[0m\u001b[1;31m:\u001b[0m invalid syntax\n"
     ]
    }
   ],
   "source": [
    "#Operator Logika di Python-Latihan 1\n",
    "#Operator \"and\"\n",
    "\n",
    "uang_lisa = 1000\n",
    "uang_jennie = 8000\n",
    "print(uang_lisa < 2000 && uang_jennie > 6000)\n",
    "\n",
    "#(&&) hanya bisa dioperasikan pada c++"
   ]
  },
  {
   "cell_type": "code",
   "execution_count": 23,
   "id": "e954aefc",
   "metadata": {},
   "outputs": [
    {
     "name": "stdout",
     "output_type": "stream",
     "text": [
      "True\n"
     ]
    }
   ],
   "source": [
    "#Operator Logika di Python-Latihan 2\n",
    "#Operator \"and\"\n",
    "\n",
    "uang_lisa = 1000\n",
    "uang_jennie = 8000\n",
    "print(uang_lisa < 2000 and uang_jennie > 6000)\n",
    "\n",
    "#uang_lisa bernilai 1000 dimana otomatis lebih kecil dari 2000, bernilai \"True\"\n",
    "#uang_jennie bilai 8000 dimana otomatis lebih besar dari 6000, bernilai \"true\"\n",
    "#keduanya bernilai True, maka \"True\"\n",
    "#operator \"and\" hanya akan menghasilkan \"True\" apabila kedua nilainya adalah \"True\", selain itu \"False"
   ]
  },
  {
   "cell_type": "code",
   "execution_count": 20,
   "id": "8c923f71",
   "metadata": {},
   "outputs": [
    {
     "name": "stdout",
     "output_type": "stream",
     "text": [
      "False\n"
     ]
    }
   ],
   "source": [
    "#Operator Logika di Python-Latihan 3\n",
    "#Operator \"and\"\n",
    "\n",
    "uang_lisa = 1000\n",
    "uang_jennie = 8000\n",
    "print(uang_lisa < 2000 and uang_jennie < 6000)\n",
    "\n",
    "#uang_lisa bernilai 1000 dan benar lebih kecil dari 2000, bernilai \"True\"\n",
    "#uanh_jennie bernilai 8000 dan tidak benar lebih kecil dari 6000, \"False\"\n",
    "#dalam operator \"and\" jika salah satunya bernilai \"False\", maka keseluruhannya akan bernilai \"False\""
   ]
  },
  {
   "cell_type": "code",
   "execution_count": 28,
   "id": "7fadab1d",
   "metadata": {},
   "outputs": [
    {
     "name": "stdout",
     "output_type": "stream",
     "text": [
      "True\n",
      "True\n",
      "True\n",
      "False\n"
     ]
    }
   ],
   "source": [
    "#Operator Logika di Python-Latihan 4\n",
    "#Operator \"or\"\n",
    "\n",
    "dadu1 = 7\n",
    "dadu2 = 8\n",
    "\n",
    "print(dadu1<8 or dadu2>10) #True or False = True\n",
    "print(dadu1<8 or dadu2>7) #True or True = True\n",
    "print(dadu1<6 or dadu2>7) #False or True = True\n",
    "print(dadu1<6 or dadu2<7) #False or False = False"
   ]
  },
  {
   "cell_type": "code",
   "execution_count": 29,
   "id": "ca26377e",
   "metadata": {},
   "outputs": [
    {
     "name": "stdout",
     "output_type": "stream",
     "text": [
      "True\n"
     ]
    }
   ],
   "source": [
    "#Operator Logika di Python-Latihan 5\n",
    "#Operator \"not\"\n",
    "\n",
    "x = 10\n",
    "y = 2\n",
    "\n",
    "print(not(x<2 or y>3 )) \n",
    "\n",
    "# \"not\" sifatnya sama seperti negasi"
   ]
  },
  {
   "cell_type": "code",
   "execution_count": 10,
   "id": "abf6430f",
   "metadata": {},
   "outputs": [
    {
     "name": "stdout",
     "output_type": "stream",
     "text": [
      "Nilai anda adalah53\n",
      "Anda mendapatkan nilai D\n",
      "Mohon maaf anda tidak lolos seleksi SNMPTN\n"
     ]
    }
   ],
   "source": [
    "#Operator if di Python-Latihan 1\n",
    "nilai = float(input(\"Nilai anda adalah\"))\n",
    "if nilai >= 80:\n",
    "    print(\"Anda mendapatkan nilai A\")\n",
    "    print(\"Selamat ya, nilai kamu bagus sekali\")\n",
    "if nilai < 80 and nilai >= 70:\n",
    "    print (\"Anda mendapatkan nilai B\")\n",
    "    print(\"Gapapa besok bisa lebih baik lagi ya\")\n",
    "if nilai >=60 and nilai <70:\n",
    "    print(\"Anda mendapatkan nilai C\")\n",
    "    print(\"Besok dicoba lagi, semangat\")\n",
    "if nilai >=50 and nilai <60:\n",
    "    print(\"Anda mendapatkan nilai D\")\n",
    "    print(\"Mohon maaf anda tidak lolos seleksi SNMPTN\")\n",
    "if nilai <50:\n",
    "    print(\"Anda mendapatkan nilai E\")\n",
    "    print(\"Mohon maaf anda tidak lolos seleksi SNMPTN\")\n",
    "    \n",
    "#Operator if akan berjalan apabila nilai variabel adalah \"True\", kalau \"False\" tidak jalan "
   ]
  },
  {
   "cell_type": "code",
   "execution_count": 13,
   "id": "43fa96e0",
   "metadata": {},
   "outputs": [
    {
     "name": "stdout",
     "output_type": "stream",
     "text": [
      "Variabel a berisi angka ganjil\n"
     ]
    }
   ],
   "source": [
    "#Operator if di Python-Latihan 2\n",
    "\n",
    "a = 25 \n",
    "\n",
    "if (a % 2) == 0 :\n",
    "    print('Variabel a adalah angka genap')\n",
    "if (a % 2)!= 0 :\n",
    "    print('Variabel a berisi angka ganjil')\n",
    "    \n",
    "#Jika sebuah angka tidak genap, maka pasti ia adalah angka ganjil\n",
    "#ketika kondisi pertama tidak terpenuhi, maka outputnya adalah kondisi kedua"
   ]
  }
 ],
 "metadata": {
  "kernelspec": {
   "display_name": "Python 3 (ipykernel)",
   "language": "python",
   "name": "python3"
  },
  "language_info": {
   "codemirror_mode": {
    "name": "ipython",
    "version": 3
   },
   "file_extension": ".py",
   "mimetype": "text/x-python",
   "name": "python",
   "nbconvert_exporter": "python",
   "pygments_lexer": "ipython3",
   "version": "3.9.13"
  }
 },
 "nbformat": 4,
 "nbformat_minor": 5
}
